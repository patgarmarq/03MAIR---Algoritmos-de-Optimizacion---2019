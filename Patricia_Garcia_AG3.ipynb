{
  "nbformat": 4,
  "nbformat_minor": 0,
  "metadata": {
    "colab": {
      "name": "Patricia_Garcia_AG3.ipynb",
      "provenance": [],
      "collapsed_sections": [],
      "authorship_tag": "ABX9TyPvKYbdGsG1INogjwHEwRka",
      "include_colab_link": true
    },
    "kernelspec": {
      "name": "python3",
      "display_name": "Python 3"
    }
  },
  "cells": [
    {
      "cell_type": "markdown",
      "metadata": {
        "id": "view-in-github",
        "colab_type": "text"
      },
      "source": [
        "<a href=\"https://colab.research.google.com/github/patgarmarq/03MAIR---Algoritmos-de-Optimizacion---2019/blob/master/Patricia_Garcia_AG3.ipynb\" target=\"_parent\"><img src=\"https://colab.research.google.com/assets/colab-badge.svg\" alt=\"Open In Colab\"/></a>"
      ]
    },
    {
      "cell_type": "markdown",
      "metadata": {
        "id": "d7reAJGqJAmK",
        "colab_type": "text"
      },
      "source": [
        "Actividad Guiada 3 <br>\n",
        "Nombre: Patricia García Marquina. <br>\n",
        "Link:https://colab.research.google.com/drive/1lPHliV73918eJiuDv4tTOd4P9NtClyyN<br>\n",
        "Git (en Master):https://github.com/patgarmarq/03MAIR---Algoritmos-de-Optimizacion---2019 <br>\n",
        "\n"
      ]
    },
    {
      "cell_type": "markdown",
      "metadata": {
        "id": "Zo7MZi6TJPvH",
        "colab_type": "text"
      },
      "source": [
        "# Notas al profesor:\n",
        "- Los apartados de este archivo contienen:\n",
        "\n",
        "  - Problema 1.Agente viajero - TSP. TSPLIB\n",
        "  - Caso 1: Búsqueda aleatoria\n",
        "  - Caso 2: Búsqueda local. Generador de vecindad\n",
        "  - Caso 3: Recocido simulado\n",
        "  - caso 4: Método constructivo. Colonia de Hormigas\n"
      ]
    },
    {
      "cell_type": "markdown",
      "metadata": {
        "id": "I4rZPo38JgsB",
        "colab_type": "text"
      },
      "source": [
        "# __Programación dinámica__\n",
        "\n",
        "## __Problema 1__. Agente viajero\n",
        "\n",
        "- Datos que estudiar: http://elib.zib.de/pub/mp-testdata/tsp/tsplib/tsp/swiss42.tsp\n",
        "\n",
        "  - Matriz completa que representa de 42 ciudades. Siendo Origen la vertical y Destino la horizontal.\n",
        "\n",
        "- Asumimos que todos los nodos están conectados y comenzamos y terminamos por el nodo 0"
      ]
    },
    {
      "cell_type": "code",
      "metadata": {
        "id": "u62XEjjjIbUR",
        "colab_type": "code",
        "outputId": "c76832e8-9ff4-4238-c49d-17707e7a033f",
        "colab": {
          "base_uri": "https://localhost:8080/",
          "height": 126
        }
      },
      "source": [
        "#Instalacion y descarga del fichero\n",
        "!pip install requests # Instalar la librería\n",
        "\n",
        "import urllib.request\n",
        "\n",
        "file = \"swiss42.tsp\"\n",
        "urllib.request.urlretrieve(\"http://elib.zib.de/pub/mp-testdata/tsp/tsplib/tsp/swiss42.tsp\", file)"
      ],
      "execution_count": 8,
      "outputs": [
        {
          "output_type": "stream",
          "text": [
            "Requirement already satisfied: requests in /usr/local/lib/python3.6/dist-packages (2.21.0)\n",
            "Requirement already satisfied: certifi>=2017.4.17 in /usr/local/lib/python3.6/dist-packages (from requests) (2019.11.28)\n",
            "Requirement already satisfied: chardet<3.1.0,>=3.0.2 in /usr/local/lib/python3.6/dist-packages (from requests) (3.0.4)\n",
            "Requirement already satisfied: idna<2.9,>=2.5 in /usr/local/lib/python3.6/dist-packages (from requests) (2.8)\n",
            "Requirement already satisfied: urllib3<1.25,>=1.21.1 in /usr/local/lib/python3.6/dist-packages (from requests) (1.24.3)\n"
          ],
          "name": "stdout"
        },
        {
          "output_type": "execute_result",
          "data": {
            "text/plain": [
              "('swiss42.tsp', <http.client.HTTPMessage at 0x7fe8383fa9b0>)"
            ]
          },
          "metadata": {
            "tags": []
          },
          "execution_count": 8
        }
      ]
    },
    {
      "cell_type": "code",
      "metadata": {
        "id": "kzEhBfROI4Ra",
        "colab_type": "code",
        "outputId": "13680dbc-8ba1-497b-c2e8-c61713be7d50",
        "colab": {
          "base_uri": "https://localhost:8080/",
          "height": 145
        }
      },
      "source": [
        "# Instalar la libreria para problemas de TSP (agente viajero)\n",
        "!pip install tsplib95  "
      ],
      "execution_count": 10,
      "outputs": [
        {
          "output_type": "stream",
          "text": [
            "Collecting tsplib95\n",
            "  Downloading https://files.pythonhosted.org/packages/dc/43/039c0621085202f19d6c12b06330bf109743083ce4024137b4713da9c40b/tsplib95-0.6.1-py2.py3-none-any.whl\n",
            "Requirement already satisfied: Click>=6.0 in /usr/local/lib/python3.6/dist-packages (from tsplib95) (7.0)\n",
            "Requirement already satisfied: networkx~=2.1 in /usr/local/lib/python3.6/dist-packages (from tsplib95) (2.4)\n",
            "Requirement already satisfied: decorator>=4.3.0 in /usr/local/lib/python3.6/dist-packages (from networkx~=2.1->tsplib95) (4.4.1)\n",
            "Installing collected packages: tsplib95\n",
            "Successfully installed tsplib95-0.6.1\n"
          ],
          "name": "stdout"
        }
      ]
    },
    {
      "cell_type": "code",
      "metadata": {
        "id": "RQsuhe_VL_ib",
        "colab_type": "code",
        "colab": {}
      },
      "source": [
        "import tsplib95\n",
        "import random\n",
        "import math\n",
        "problem = tsplib95.load_problem(file) \n",
        "#Creamos lista de nodos\n",
        "Nodos = list(problem.get_nodes()) \n",
        "#Aristas\n",
        "Aristas = list(problem.get_edges())    \n"
      ],
      "execution_count": 0,
      "outputs": []
    },
    {
      "cell_type": "markdown",
      "metadata": {
        "id": "Xkejzwp3N8xk",
        "colab_type": "text"
      },
      "source": [
        "# __Definición de funciones__\n",
        "\n",
        "- Vamos a definir tres funciones \n",
        "  - __crear_solucion__: Recibe la lista de nodos y devuelve una solución aleatoria.\n",
        "  - __distancia__ devuelve la distancia entre dos nodos\n",
        "  - __distancia_total__ que se utilizará\n",
        "  \n",
        "- Metaheuristicas hay que repetir y buscar la siguiente funcion"
      ]
    },
    {
      "cell_type": "code",
      "metadata": {
        "id": "4QK8NkodMax6",
        "colab_type": "code",
        "outputId": "402ed4f7-e537-4cb5-9aef-577df16ca1e6",
        "colab": {
          "base_uri": "https://localhost:8080/",
          "height": 54
        }
      },
      "source": [
        "#Se genera una solucion aleatoria con comienzo en en el nodo 0\n",
        "def crear_solucion(Nodos): \n",
        "  solucion = [0]\n",
        "  for i in range(len(Nodos)-1):\n",
        "    #Toma un nodo no elegido aleatoriamente. Set no importa el orden\n",
        "    solucion = solucion + [random.choice(list(set(Nodos) - set(solucion)))] \n",
        "  return solucion  \n",
        "\n",
        "#Devuelve la distancia entre dos nodos\n",
        "def distancia(a,b, problem):\n",
        "  return problem.wfunc(a,b)\n",
        "\n",
        "#Devuelve la distancia total de una trayectoria\n",
        "def distancia_total(solucion, problem):\n",
        "  distancia_total = 0\n",
        "  for i in range(len(solucion)-1):\n",
        "    distancia_total += distancia(solucion[i] ,solucion[i+1] ,  problem)\n",
        "  return distancia_total + distancia(solucion[len(solucion)-1] ,solucion[0], problem)\n",
        "\n",
        "print(\"Distancia 0-1: \",distancia(0,1,problem))  #Dist nodo 0 y el 1, de problem (donde tengo mis datos)\n",
        "\n",
        "solucion = crear_solucion(Nodos)\n",
        "print(\"Distancia total \",distancia_total(solucion,problem))"
      ],
      "execution_count": 12,
      "outputs": [
        {
          "output_type": "stream",
          "text": [
            "Distancia 0-1:  15\n",
            "Distancia total  4878\n"
          ],
          "name": "stdout"
        }
      ]
    },
    {
      "cell_type": "markdown",
      "metadata": {
        "id": "KtmzUv2apeQl",
        "colab_type": "text"
      },
      "source": [
        "# **Caso 1: Búsqueda aleatoria**: "
      ]
    },
    {
      "cell_type": "code",
      "metadata": {
        "id": "99PAZMrSO8wk",
        "colab_type": "code",
        "outputId": "dcf5ddd7-ba64-485c-8004-b0d138163d15",
        "colab": {
          "base_uri": "https://localhost:8080/",
          "height": 72
        }
      },
      "source": [
        "#Busqueda aleatorio. N: nº iteraciones\n",
        "def busqueda_aleatoria(problem, N):\n",
        "  mejor_solucion = crear_solucion(Nodos)\n",
        "  mejor_valor    = distancia_total(mejor_solucion, problem) # dis(solucion)\n",
        "\n",
        "  for i in range(N):     # iteraciones. Va generando nuevas iteraciones\n",
        "      solucion = crear_solucion(Nodos)\n",
        "      valor    = distancia_total(solucion, problem)\n",
        "      if valor < mejor_valor:\n",
        "        mejor_solucion = solucion\n",
        "        mejor_valor = valor\n",
        "\n",
        "  print(\"La mejor solucion es \",mejor_valor,  mejor_solucion)\n",
        "   \n",
        "#busqueda_aleatoria(problem, 20000)\n",
        "print(\"Búsqueda aleatoria:\\n\")\n",
        "sol_busq_aleatoria = busqueda_aleatoria(problem, 100)"
      ],
      "execution_count": 13,
      "outputs": [
        {
          "output_type": "stream",
          "text": [
            "Búsqueda aleatoria:\n",
            "\n",
            "La mejor solucion es  3986 [0, 15, 13, 2, 17, 27, 24, 29, 8, 18, 10, 39, 7, 21, 6, 32, 3, 4, 30, 9, 22, 34, 20, 35, 36, 16, 19, 37, 26, 40, 41, 11, 33, 12, 14, 28, 23, 25, 38, 31, 1, 5]\n"
          ],
          "name": "stdout"
        }
      ]
    },
    {
      "cell_type": "code",
      "metadata": {
        "id": "ksqbNEHEc23G",
        "colab_type": "code",
        "outputId": "2141eed3-16f3-49c8-aa93-446688333dd1",
        "colab": {
          "base_uri": "https://localhost:8080/",
          "height": 54
        }
      },
      "source": [
        "busqueda_aleatoria(problem, 20000)"
      ],
      "execution_count": 0,
      "outputs": [
        {
          "output_type": "stream",
          "text": [
            "La mejor solucion es  3427 [0, 13, 12, 18, 11, 14, 10, 8, 22, 21, 39, 34, 20, 29, 26, 30, 40, 24, 32, 41, 27, 17, 36, 1, 31, 35, 4, 2, 7, 37, 15, 5, 6, 25, 9, 23, 16, 19, 28, 3, 38, 33]\n"
          ],
          "name": "stdout"
        }
      ]
    },
    {
      "cell_type": "markdown",
      "metadata": {
        "id": "5mk5AoAleK0_",
        "colab_type": "text"
      },
      "source": [
        "# **Caso 2: Búsqueda local**: \n",
        "\n",
        "__Generador de vecindad__\n",
        "\n",
        "- Se genera una lista que permita encontrar la mejor solución vecina a una solución (aleatoria) dada.\n",
        "\n",
        "- Vamos a utilizar el operador 2-opt (que es intercambiar 2 nodos)\n",
        "  - Para el problema de 42 ciudades debo intercambiar 41*42 =820 posibilidades (y /2 porque elimino las soluciones simétricas)"
      ]
    },
    {
      "cell_type": "code",
      "metadata": {
        "id": "lUZTJSUedPfG",
        "colab_type": "code",
        "colab": {}
      },
      "source": [
        "#La funcion recibe una solucion cualquiera y usamos intercambiador de nodos\n",
        "\n",
        "def genera_vecina(solucion):\n",
        "  #Generador de soluciones vecinas: 2-opt (intercambiar 2 nodos) Si hay N nodos se generan (N-1)x(N-2)/2 soluciones\n",
        "  #print(solucion)\n",
        "  mejor_solucion = []\n",
        "  mejor_distancia = 10e100\n",
        "\n",
        "\n",
        "  for i in range(1,len(solucion)-1):\n",
        "    for j in range(i+1, len(solucion)):\n",
        "\n",
        "      #Me quedo con la 1º parte de la solución (desde 0 a i) y luego intercambio j por i, \n",
        "      # pego entre medias lo que hay entre i+1 y j\n",
        "      vecina = solucion[:i] + [solucion[j]] + solucion[i+1:j] + [solucion[i]] + solucion[j+1:] \n",
        "      distancia_vecina = distancia_total(vecina, problem)\n",
        "      if distancia_vecina <= mejor_distancia:\n",
        "        mejor_distancia = distancia_vecina\n",
        "        mejor_solucion = vecina\n",
        "  return mejor_solucion\n",
        "      \n",
        "\n",
        "solucion = crear_solucion(Nodos)\n",
        "mejor_solucion = genera_vecina(solucion)\n",
        "\n",
        "\n"
      ],
      "execution_count": 0,
      "outputs": []
    },
    {
      "cell_type": "code",
      "metadata": {
        "id": "ehU2nUFIw8KW",
        "colab_type": "code",
        "colab": {
          "base_uri": "https://localhost:8080/",
          "height": 90
        },
        "outputId": "a882c96d-7375-4305-e23e-7e41df67bead"
      },
      "source": [
        "###################################\n",
        "def busqueda_local(problem, N):\n",
        "  #problem = datos del problema\n",
        "  #N = numero de iteraciones\n",
        "  \n",
        "  mejor_solucion = []\n",
        "  mejor_distancia = 10e100\n",
        "  \n",
        "  solucion_referencia = crear_solucion(Nodos)   # Referencia solo\n",
        "  \n",
        "  #Creamos vecinos y comparamos distancias\n",
        "  for i in range(N):\n",
        "    vecina = genera_vecina(solucion_referencia)    \n",
        "    distancia_vecina = distancia_total(vecina, problem)\n",
        "    if distancia_vecina <= mejor_distancia:\n",
        "      mejor_solucion = vecina\n",
        "      mejor_distancia = distancia_vecina\n",
        "        \n",
        "    solucion_referencia = vecina #va dentro del if o fuera? el lo pone fuera, pero mejores res. dentro\n",
        "  print(\"La mejor solución encontrada es \" , mejor_distancia , mejor_solucion)\n",
        "\n",
        "print(\"\\nBusqueda local: Este algoritmo tarda algo más, pero encuentra mejores soluciones, (record 1273)\\n\")\n",
        "\n",
        "sol_bus_local = busqueda_local(problem, 500)#Por búsqueda local, cada vez estamos mejorando la búsqueda local. Tenemos mejores soluciones\n",
        "#y proximas a la mejor solución encontrada aprox  record 1273"
      ],
      "execution_count": 16,
      "outputs": [
        {
          "output_type": "stream",
          "text": [
            "\n",
            "Busqueda local: Este algoritmo tarda algo más, pero encuentra mejores soluciones, (record 1273)\n",
            "\n",
            "La mejor solución encontrada es  1854 [0, 4, 10, 41, 23, 9, 22, 38, 7, 14, 16, 19, 13, 11, 25, 12, 5, 15, 37, 17, 36, 35, 31, 1, 6, 26, 18, 8, 40, 24, 21, 39, 29, 30, 28, 32, 20, 33, 34, 27, 2, 3]\n"
          ],
          "name": "stdout"
        }
      ]
    },
    {
      "cell_type": "markdown",
      "metadata": {
        "id": "yUj97-B5n1Rl",
        "colab_type": "text"
      },
      "source": [
        "Tenderá a minimos locales, llegará un punto que llegue a un mínimo local y por ello __debemos buscar estrategias__ para salir del mínimo local:\n",
        "  - Modificar estructuras de entornos  búsqueda en _entornos variables.\n",
        "  - Permitir movimientos peores respecto a la solución actual, _búsqueda tabú_, _recocido simulado_.\n",
        "  - Volver a comenzar con otras soluciones iniciales: búsquedas _multiarranque_"
      ]
    },
    {
      "cell_type": "markdown",
      "metadata": {
        "id": "wHH6iLBrtV_3",
        "colab_type": "text"
      },
      "source": [
        "# __caso 3: Recocido simulado__\n",
        "__Generar una solución vecina de una solución dada__\n",
        "  - elegir dos nodos al azar (los ordenamos), y los intercambiamos\n",
        "  - Nos da casi la misma solución, pero con algún intercambio de nodos\n",
        "\n"
      ]
    },
    {
      "cell_type": "code",
      "metadata": {
        "id": "I7IIkQEph7UO",
        "colab_type": "code",
        "outputId": "1e8a432f-cdb5-45c0-c2c8-e4d9d7a6212b",
        "colab": {
          "base_uri": "https://localhost:8080/",
          "height": 145
        }
      },
      "source": [
        "def genera_vecina_aleatorio(solucion):\n",
        "  #Generador de 1 solucion vecina 2-opt (intercambiar 2 nodos)\n",
        "  #Se puede mejorar haciendo que la elección no se uniforme sino entre las que estén más proximas\n",
        "  i = random.choice(range(1, len(solucion)) )\n",
        "  j = random.choice(list(set(range(1, len(solucion))) - {i}))\n",
        "  if j<i:\n",
        "    i,j=j,i\n",
        "  vecina = list(solucion[:i] + [solucion[j]] + solucion[i+1:j] + [solucion[i]] + solucion[j+1:])\n",
        "  return vecina\n",
        "\n",
        "solucion = crear_solucion(Nodos)\n",
        "sol_vecina_aleatorio = genera_vecina_aleatorio(solucion)\n",
        "print(\"Solución\\n\",solucion,\"\\nSolución genera_vecina_aleatorio\\n\", sol_vecina_aleatorio)\n",
        "print(\"\\n Doble intercambio\\n\", genera_vecina_aleatorio(genera_vecina_aleatorio(solucion)))\n",
        "#Es casi la misma, pero con dos elementos de la lista anterior y se intercambian. "
      ],
      "execution_count": 21,
      "outputs": [
        {
          "output_type": "stream",
          "text": [
            "Solución\n",
            " [0, 41, 14, 33, 2, 19, 22, 39, 20, 9, 24, 21, 29, 25, 36, 18, 15, 37, 28, 32, 5, 10, 16, 31, 4, 7, 8, 27, 23, 35, 30, 34, 13, 38, 3, 12, 11, 1, 17, 26, 6, 40] \n",
            "Solución genera_vecina_aleatorio\n",
            " [0, 41, 21, 33, 2, 19, 22, 39, 20, 9, 24, 14, 29, 25, 36, 18, 15, 37, 28, 32, 5, 10, 16, 31, 4, 7, 8, 27, 23, 35, 30, 34, 13, 38, 3, 12, 11, 1, 17, 26, 6, 40]\n",
            "\n",
            " Doble intercambio\n",
            " [0, 41, 14, 33, 2, 5, 22, 39, 20, 9, 24, 21, 29, 28, 36, 18, 15, 37, 25, 32, 19, 10, 16, 31, 4, 7, 8, 27, 23, 35, 30, 34, 13, 38, 3, 12, 11, 1, 17, 26, 6, 40]\n"
          ],
          "name": "stdout"
        }
      ]
    },
    {
      "cell_type": "markdown",
      "metadata": {
        "id": "NdTCd_c8x1hb",
        "colab_type": "text"
      },
      "source": [
        "#### __Funciones para Probabilidad, Temperatura__\n",
        "  - Cálculo de la probabilidad. ¿cuando nos quedamos con una solución peor? Se aplica la fórmula $P_{aceptacion} = e^{\\frac{-\\delta}{T}}$\n",
        "    - delta ($\\delta$) : la diferencia entre solución actual y de referencia (vecina).\n",
        "    - Temperatura ($T$): la temperatura actual.\n",
        "  \n",
        "  - __Función descenso de temperatura__ En este caso el exponencial, desciende la T en funcón de un parámetro fijo, aunque podríamos aplicar los siguiente:\n",
        "    - __Descenso constante__\n",
        "    - __Basado en descensos sucesivos__ por tramos dependiendo de la iteración.\n",
        "    - __Descenso exponencial (usada aqui) o descenso de gradiente__: $T_{k+1} = \\alpha · T_K$\n",
        "    - __Criterio Boltzmann:__ $T_k = \\frac{T_0}{1 + log(k)}$\n",
        "    - __Esquema de Cauchy__: $T_k = \\frac{T_0}{1+k}$\n",
        "\n",
        "\n",
        "\n",
        "    "
      ]
    },
    {
      "cell_type": "code",
      "metadata": {
        "id": "yq7hp4P2wuF_",
        "colab_type": "code",
        "colab": {}
      },
      "source": [
        "#Funcion de probabilidad para determinar si se cambia \n",
        "#    a una solución peor respecto a la de referencia(exponencial)\n",
        "def probabilidad(T,d):\n",
        "  if random.random() <= math.exp(-1*d / T)   :\n",
        "    return True\n",
        "  else:\n",
        "    return False\n",
        "\n",
        "\n",
        "def bajar_temperatura(T):\n",
        "  return T*.9999"
      ],
      "execution_count": 0,
      "outputs": []
    },
    {
      "cell_type": "markdown",
      "metadata": {
        "id": "WISuNg6L2Ruq",
        "colab_type": "text"
      },
      "source": [
        "## __Proceso principal Recocido simulado__\n",
        "- Mientras T >1:\n",
        "  - Genero solucion vecina aleatoria (nodos al azar e intercambiarlos)\n",
        "  - Calcula el valor de la nueva sol vecina.\n",
        "  - Si esa dist es mejor que la que teníamos antes -> la guardamos\n",
        "\n",
        "  - Ademas, calculamos __probabilidad__ de las funciones anteriores, en función de la temperatura y la distancia entre la nueva distancia y la que teníamos de referencia.\n",
        "  - __Si mejora la distancia__ me quedo con ella.\n",
        "  - __SI NO MEJORA LA DISTANCIA__ obtenemos una probabilidad de poder quedármela aunque sea peor (así obtenemos los casos peores para este algoritmo).\n",
        "\n",
        "- Cuando se llega a la Temperatura = 1, saca la mejor solución encontrada"
      ]
    },
    {
      "cell_type": "code",
      "metadata": {
        "id": "23n4fXjEx-wm",
        "colab_type": "code",
        "outputId": "02a9c2e1-4780-4d03-b98b-8fce9cb4f103",
        "colab": {
          "base_uri": "https://localhost:8080/",
          "height": 4217
        }
      },
      "source": [
        "#####################################################################\n",
        "def recocido_simulado(problem, TEMPERATURA=1000):\n",
        "  #problem = datos del problema\n",
        "\n",
        "  solucion_referencia = crear_solucion(Nodos)\n",
        "  distancia_referencia = distancia_total(solucion_referencia, problem)\n",
        "  \n",
        "  mejor_solucion = []\n",
        "  mejor_distancia = 10e100\n",
        "\n",
        "  while TEMPERATURA > 1:\n",
        "    #Genera una solución vecina(aleatoria)\n",
        "    vecina = genera_vecina_aleatorio(solucion_referencia) \n",
        "    \n",
        "    #Calcula su valor(distancia) la solucion \n",
        "    distancia_vecina = distancia_total(vecina, problem)\n",
        "    \n",
        "    #Si es la mejor solución de todas se guarda\n",
        "    if distancia_vecina < mejor_distancia:\n",
        "      mejor_solucion = vecina\n",
        "      mejor_distancia = distancia_vecina\n",
        "      print('\\t****Encontrada mejor solucion:', mejor_distancia , mejor_solucion, '\\n')\n",
        "    \n",
        "    #Si la nueva vecina es mejor se cambia y si es peor se cambia según \n",
        "    # una probabilidad dependiente de T y de |distancia_referencia - distancia_vecina|\n",
        "    p = probabilidad(TEMPERATURA, abs(distancia_referencia - distancia_vecina) )\n",
        "    if distancia_vecina < distancia_referencia or p : # Si no es mejor, veo p\n",
        "      solucion_referencia = vecina\n",
        "      distancia_referencia = distancia_vecina\n",
        "    \n",
        "    TEMPERATURA = bajar_temperatura(TEMPERATURA)\n",
        "\n",
        "  print(\"La mejor solución encontrada es :\" , mejor_distancia, mejor_solucion  )\n",
        "  return mejor_solucion\n",
        "\n",
        "sol_recocido_simulado = recocido_simulado(problem, TEMPERATURA=100000) #Solo imprime si encuentra mejor sol/iteracion\n"
      ],
      "execution_count": 24,
      "outputs": [
        {
          "output_type": "stream",
          "text": [
            "\t****Encontrada mejor solucion: 5170 [0, 3, 33, 30, 25, 27, 10, 23, 35, 24, 8, 28, 9, 16, 38, 19, 22, 21, 37, 11, 31, 34, 15, 29, 7, 14, 41, 26, 1, 4, 36, 39, 32, 13, 18, 6, 12, 2, 5, 17, 20, 40] \n",
            "\n",
            "\t****Encontrada mejor solucion: 5160 [0, 3, 33, 30, 25, 27, 10, 23, 35, 24, 8, 28, 9, 16, 38, 19, 22, 21, 37, 11, 31, 34, 15, 29, 7, 14, 41, 26, 1, 4, 36, 39, 32, 18, 13, 6, 12, 2, 5, 17, 20, 40] \n",
            "\n",
            "\t****Encontrada mejor solucion: 5026 [0, 3, 33, 30, 25, 39, 10, 23, 35, 24, 8, 28, 9, 16, 38, 19, 22, 21, 37, 11, 31, 34, 15, 29, 7, 14, 41, 26, 1, 4, 36, 27, 32, 18, 13, 6, 12, 2, 5, 17, 20, 40] \n",
            "\n",
            "\t****Encontrada mejor solucion: 4999 [0, 3, 33, 30, 25, 39, 10, 23, 35, 24, 8, 28, 9, 16, 38, 17, 22, 21, 37, 11, 31, 34, 15, 29, 7, 14, 41, 26, 1, 4, 36, 27, 32, 18, 13, 6, 12, 2, 5, 19, 20, 40] \n",
            "\n",
            "\t****Encontrada mejor solucion: 4976 [0, 3, 33, 30, 25, 39, 10, 23, 35, 24, 8, 28, 41, 16, 38, 17, 22, 21, 37, 11, 31, 34, 15, 29, 7, 14, 9, 26, 1, 4, 36, 27, 32, 18, 2, 6, 12, 13, 5, 19, 20, 40] \n",
            "\n",
            "\t****Encontrada mejor solucion: 4826 [0, 3, 33, 30, 25, 39, 10, 36, 35, 24, 8, 28, 41, 16, 38, 17, 22, 21, 37, 11, 31, 34, 15, 29, 7, 14, 9, 26, 1, 4, 23, 27, 32, 18, 2, 6, 12, 13, 5, 19, 20, 40] \n",
            "\n",
            "\t****Encontrada mejor solucion: 4816 [0, 3, 33, 25, 30, 39, 10, 36, 35, 24, 8, 28, 41, 16, 2, 17, 22, 21, 37, 5, 31, 15, 34, 29, 9, 14, 7, 26, 1, 4, 23, 11, 32, 18, 38, 6, 12, 13, 27, 19, 20, 40] \n",
            "\n",
            "\t****Encontrada mejor solucion: 4675 [0, 3, 33, 7, 30, 39, 10, 36, 35, 24, 8, 28, 20, 16, 2, 17, 22, 21, 37, 5, 31, 15, 34, 29, 9, 14, 25, 26, 1, 4, 23, 11, 32, 18, 38, 6, 12, 13, 27, 19, 41, 40] \n",
            "\n",
            "\t****Encontrada mejor solucion: 4593 [0, 3, 33, 7, 24, 39, 10, 36, 35, 30, 8, 28, 20, 16, 2, 17, 22, 21, 37, 5, 31, 15, 34, 29, 9, 14, 25, 26, 1, 4, 23, 11, 32, 18, 38, 6, 12, 13, 27, 19, 41, 40] \n",
            "\n",
            "\t****Encontrada mejor solucion: 4533 [0, 3, 33, 7, 24, 39, 10, 36, 35, 30, 8, 28, 20, 16, 2, 17, 22, 21, 37, 15, 31, 5, 34, 29, 9, 14, 25, 26, 1, 4, 23, 11, 32, 18, 38, 6, 12, 13, 27, 19, 41, 40] \n",
            "\n",
            "\t****Encontrada mejor solucion: 4467 [0, 12, 9, 18, 21, 26, 8, 13, 29, 7, 36, 39, 27, 28, 11, 22, 38, 32, 37, 15, 35, 20, 31, 14, 4, 30, 40, 1, 23, 24, 6, 2, 19, 5, 3, 16, 25, 10, 17, 34, 41, 33] \n",
            "\n",
            "\t****Encontrada mejor solucion: 4262 [0, 3, 9, 18, 21, 5, 8, 13, 26, 7, 36, 39, 27, 28, 11, 22, 38, 32, 37, 15, 35, 20, 31, 14, 4, 30, 40, 1, 23, 24, 6, 2, 19, 29, 12, 16, 25, 10, 41, 34, 17, 33] \n",
            "\n",
            "\t****Encontrada mejor solucion: 4229 [0, 3, 9, 18, 21, 5, 8, 13, 26, 7, 36, 39, 27, 28, 11, 22, 38, 32, 37, 15, 35, 20, 31, 14, 4, 30, 40, 1, 23, 24, 6, 12, 19, 29, 2, 16, 25, 10, 41, 34, 17, 33] \n",
            "\n",
            "\t****Encontrada mejor solucion: 4227 [0, 24, 38, 32, 10, 16, 11, 6, 3, 5, 29, 2, 4, 22, 15, 37, 25, 31, 36, 17, 14, 39, 18, 1, 30, 34, 21, 41, 40, 9, 26, 12, 8, 28, 19, 7, 13, 20, 33, 23, 27, 35] \n",
            "\n",
            "\t****Encontrada mejor solucion: 4220 [0, 24, 38, 32, 10, 16, 11, 6, 3, 5, 29, 2, 4, 12, 15, 37, 25, 31, 36, 17, 14, 39, 18, 1, 30, 34, 21, 41, 40, 9, 26, 22, 8, 28, 19, 7, 13, 20, 33, 23, 27, 35] \n",
            "\n",
            "\t****Encontrada mejor solucion: 4168 [0, 21, 29, 24, 39, 27, 18, 13, 19, 37, 11, 14, 17, 8, 6, 1, 35, 31, 36, 32, 7, 16, 3, 30, 5, 4, 25, 22, 40, 34, 26, 41, 9, 10, 20, 23, 33, 15, 12, 28, 2, 38] \n",
            "\n",
            "\t****Encontrada mejor solucion: 4011 [0, 16, 5, 32, 30, 34, 36, 28, 33, 18, 23, 24, 21, 40, 35, 15, 2, 38, 39, 41, 11, 13, 20, 25, 9, 6, 29, 10, 26, 4, 27, 37, 22, 12, 3, 1, 14, 31, 17, 8, 19, 7] \n",
            "\n",
            "\t****Encontrada mejor solucion: 3999 [0, 41, 36, 20, 38, 17, 16, 13, 37, 26, 10, 30, 27, 14, 29, 24, 39, 40, 28, 33, 35, 7, 6, 5, 18, 34, 15, 1, 11, 12, 8, 31, 4, 2, 21, 32, 23, 22, 9, 25, 3, 19] \n",
            "\n",
            "\t****Encontrada mejor solucion: 3937 [0, 41, 36, 20, 38, 17, 16, 13, 37, 26, 10, 30, 27, 14, 29, 24, 39, 40, 28, 33, 35, 7, 31, 5, 18, 34, 15, 1, 11, 12, 8, 6, 4, 2, 21, 32, 23, 22, 9, 25, 3, 19] \n",
            "\n",
            "\t****Encontrada mejor solucion: 3906 [0, 41, 36, 20, 38, 17, 16, 13, 37, 26, 10, 30, 27, 14, 29, 24, 39, 40, 28, 33, 35, 7, 18, 5, 31, 34, 15, 1, 11, 12, 8, 6, 4, 2, 21, 32, 23, 22, 9, 25, 3, 19] \n",
            "\n",
            "\t****Encontrada mejor solucion: 3902 [0, 30, 12, 14, 6, 21, 8, 28, 33, 34, 25, 5, 4, 31, 7, 36, 37, 10, 1, 15, 3, 19, 27, 26, 40, 2, 16, 29, 11, 41, 23, 18, 13, 17, 35, 32, 22, 38, 39, 9, 24, 20] \n",
            "\n",
            "\t****Encontrada mejor solucion: 3704 [0, 28, 5, 25, 8, 19, 18, 26, 14, 24, 21, 39, 22, 20, 36, 7, 1, 35, 16, 13, 9, 38, 27, 12, 11, 23, 41, 37, 15, 34, 31, 3, 2, 17, 40, 10, 29, 32, 4, 33, 30, 6] \n",
            "\n",
            "\t****Encontrada mejor solucion: 3537 [0, 35, 37, 15, 36, 17, 6, 41, 23, 33, 27, 3, 19, 9, 8, 21, 40, 22, 34, 30, 39, 32, 20, 38, 7, 16, 12, 11, 14, 31, 10, 24, 18, 4, 29, 28, 25, 2, 1, 26, 13, 5] \n",
            "\n",
            "\t****Encontrada mejor solucion: 3483 [0, 29, 4, 7, 3, 5, 36, 30, 13, 25, 24, 40, 23, 21, 39, 9, 28, 34, 35, 14, 11, 6, 8, 38, 22, 20, 17, 33, 32, 27, 1, 12, 18, 26, 10, 16, 37, 19, 15, 41, 2, 31] \n",
            "\n",
            "\t****Encontrada mejor solucion: 3482 [0, 29, 4, 7, 3, 5, 36, 30, 13, 25, 24, 40, 23, 21, 39, 9, 31, 34, 35, 14, 11, 6, 8, 38, 22, 20, 17, 33, 32, 27, 1, 12, 18, 26, 10, 16, 37, 19, 15, 41, 2, 28] \n",
            "\n",
            "\t****Encontrada mejor solucion: 3471 [0, 29, 37, 7, 33, 32, 36, 28, 10, 25, 24, 40, 23, 21, 41, 9, 31, 34, 35, 14, 17, 6, 8, 38, 22, 4, 2, 3, 39, 27, 11, 12, 18, 20, 5, 1, 16, 19, 15, 26, 13, 30] \n",
            "\n",
            "\t****Encontrada mejor solucion: 3430 [0, 29, 37, 7, 34, 32, 36, 28, 10, 25, 24, 40, 23, 21, 41, 9, 31, 33, 35, 14, 17, 6, 8, 38, 22, 4, 2, 3, 39, 27, 11, 12, 18, 20, 5, 1, 16, 19, 15, 26, 13, 30] \n",
            "\n",
            "\t****Encontrada mejor solucion: 3425 [0, 17, 15, 35, 20, 33, 30, 10, 12, 29, 22, 38, 8, 5, 16, 26, 2, 4, 19, 36, 13, 32, 37, 14, 39, 23, 9, 41, 25, 21, 24, 34, 7, 1, 3, 40, 27, 18, 11, 28, 6, 31] \n",
            "\n",
            "\t****Encontrada mejor solucion: 3424 [0, 17, 15, 35, 20, 33, 30, 10, 12, 29, 22, 38, 8, 5, 16, 26, 2, 40, 19, 36, 13, 32, 37, 14, 39, 23, 9, 41, 25, 21, 24, 34, 7, 1, 3, 4, 27, 18, 11, 28, 6, 31] \n",
            "\n",
            "\t****Encontrada mejor solucion: 3321 [0, 40, 2, 3, 27, 23, 12, 41, 11, 29, 36, 37, 17, 31, 4, 15, 16, 14, 7, 5, 13, 34, 35, 33, 20, 32, 9, 22, 25, 21, 24, 28, 19, 26, 6, 1, 38, 30, 39, 18, 8, 10] \n",
            "\n",
            "\t****Encontrada mejor solucion: 3303 [0, 7, 16, 1, 40, 24, 8, 9, 39, 21, 31, 35, 4, 3, 23, 2, 6, 37, 14, 12, 34, 32, 27, 13, 18, 15, 20, 33, 36, 17, 19, 26, 41, 10, 5, 29, 25, 11, 30, 22, 38, 28] \n",
            "\n",
            "\t****Encontrada mejor solucion: 3295 [0, 20, 31, 7, 37, 26, 18, 4, 36, 6, 32, 14, 15, 13, 11, 12, 1, 33, 35, 17, 2, 3, 25, 41, 38, 34, 16, 28, 8, 22, 40, 39, 29, 5, 19, 27, 30, 21, 23, 9, 24, 10] \n",
            "\n",
            "\t****Encontrada mejor solucion: 3261 [0, 20, 31, 7, 37, 26, 18, 4, 36, 6, 32, 14, 15, 13, 11, 12, 1, 33, 35, 17, 2, 3, 25, 41, 10, 34, 16, 28, 8, 22, 40, 39, 29, 5, 19, 27, 30, 21, 23, 9, 24, 38] \n",
            "\n",
            "\t****Encontrada mejor solucion: 3243 [0, 20, 31, 7, 37, 28, 18, 4, 16, 6, 32, 14, 15, 13, 11, 12, 1, 33, 35, 17, 2, 3, 25, 41, 10, 34, 36, 26, 8, 22, 40, 39, 29, 5, 19, 27, 30, 21, 23, 9, 24, 38] \n",
            "\n",
            "\t****Encontrada mejor solucion: 3148 [0, 38, 20, 33, 27, 18, 5, 7, 16, 36, 31, 14, 15, 13, 11, 12, 28, 6, 1, 17, 37, 3, 8, 41, 21, 23, 4, 26, 25, 22, 40, 39, 29, 34, 32, 35, 19, 10, 2, 9, 24, 30] \n",
            "\n",
            "\t****Encontrada mejor solucion: 3112 [0, 8, 10, 24, 40, 21, 23, 22, 38, 32, 26, 2, 28, 18, 30, 27, 34, 20, 4, 29, 5, 19, 9, 25, 12, 41, 33, 35, 36, 3, 13, 11, 6, 39, 1, 7, 31, 16, 37, 14, 15, 17] \n",
            "\n",
            "\t****Encontrada mejor solucion: 3073 [0, 8, 10, 24, 40, 21, 23, 22, 38, 32, 26, 5, 28, 18, 30, 27, 34, 20, 33, 29, 2, 19, 9, 25, 12, 41, 4, 35, 36, 3, 13, 11, 6, 39, 1, 7, 31, 16, 37, 14, 15, 17] \n",
            "\n",
            "\t****Encontrada mejor solucion: 3043 [0, 8, 39, 24, 40, 21, 23, 22, 38, 32, 26, 10, 28, 34, 30, 27, 18, 20, 33, 29, 5, 2, 9, 13, 12, 41, 11, 35, 36, 3, 25, 4, 6, 19, 1, 7, 31, 16, 37, 14, 15, 17] \n",
            "\n",
            "\t****Encontrada mejor solucion: 2968 [0, 18, 19, 15, 11, 25, 39, 40, 21, 26, 3, 41, 23, 2, 1, 6, 14, 17, 37, 16, 27, 30, 28, 29, 9, 24, 22, 38, 20, 35, 7, 4, 36, 32, 34, 33, 10, 8, 12, 13, 5, 31] \n",
            "\n",
            "\t****Encontrada mejor solucion: 2931 [0, 34, 4, 28, 1, 7, 32, 36, 35, 33, 20, 30, 29, 22, 38, 39, 40, 12, 37, 17, 19, 15, 11, 25, 6, 23, 21, 24, 41, 18, 13, 27, 31, 5, 26, 14, 16, 3, 2, 8, 9, 10] \n",
            "\n",
            "\t****Encontrada mejor solucion: 2878 [0, 34, 4, 28, 5, 7, 32, 36, 35, 33, 20, 30, 29, 22, 38, 39, 40, 15, 37, 17, 19, 12, 11, 25, 6, 23, 21, 24, 41, 18, 13, 27, 31, 1, 26, 14, 16, 3, 2, 8, 9, 10] \n",
            "\n",
            "\t****Encontrada mejor solucion: 2835 [0, 7, 1, 37, 36, 35, 17, 18, 25, 31, 32, 3, 41, 40, 11, 13, 15, 19, 16, 14, 28, 30, 27, 6, 26, 10, 22, 29, 20, 33, 34, 38, 8, 12, 21, 39, 24, 9, 23, 2, 4, 5] \n",
            "\n",
            "\t****Encontrada mejor solucion: 2732 [0, 4, 30, 2, 7, 13, 26, 5, 16, 15, 14, 17, 10, 40, 24, 39, 22, 38, 33, 31, 28, 25, 12, 29, 21, 9, 23, 11, 20, 34, 35, 36, 37, 32, 1, 3, 6, 18, 19, 8, 41, 27] \n",
            "\n",
            "\t****Encontrada mejor solucion: 2729 [0, 4, 30, 27, 7, 13, 26, 5, 16, 15, 14, 17, 10, 40, 24, 39, 22, 38, 33, 31, 28, 25, 12, 29, 21, 9, 23, 11, 20, 34, 35, 36, 37, 32, 1, 3, 6, 18, 19, 8, 41, 2] \n",
            "\n",
            "\t****Encontrada mejor solucion: 2719 [0, 4, 30, 27, 7, 13, 26, 5, 16, 15, 14, 17, 10, 40, 24, 39, 22, 38, 33, 31, 28, 11, 12, 29, 21, 9, 23, 25, 32, 34, 35, 36, 37, 20, 1, 3, 6, 18, 19, 8, 41, 2] \n",
            "\n",
            "\t****Encontrada mejor solucion: 2717 [0, 4, 30, 31, 7, 13, 26, 5, 16, 15, 14, 17, 10, 40, 24, 39, 22, 38, 33, 27, 28, 11, 12, 29, 21, 9, 23, 25, 32, 34, 35, 36, 37, 20, 1, 3, 6, 18, 19, 8, 41, 2] \n",
            "\n",
            "\t****Encontrada mejor solucion: 2700 [0, 4, 30, 31, 7, 13, 26, 5, 16, 15, 14, 18, 10, 40, 24, 39, 22, 38, 33, 27, 28, 11, 12, 29, 21, 9, 23, 25, 32, 34, 35, 36, 37, 20, 1, 3, 6, 17, 19, 8, 41, 2] \n",
            "\n",
            "\t****Encontrada mejor solucion: 2646 [0, 32, 33, 27, 1, 2, 28, 22, 39, 24, 9, 40, 21, 10, 41, 18, 19, 14, 15, 5, 6, 38, 23, 8, 30, 13, 31, 7, 20, 34, 35, 36, 17, 37, 16, 26, 25, 29, 12, 11, 4, 3] \n",
            "\n",
            "\t****Encontrada mejor solucion: 2558 [0, 32, 7, 27, 1, 2, 28, 22, 39, 24, 9, 40, 21, 10, 41, 18, 19, 14, 15, 5, 6, 38, 23, 8, 30, 13, 31, 33, 20, 34, 35, 36, 17, 37, 16, 26, 25, 29, 12, 11, 4, 3] \n",
            "\n",
            "\t****Encontrada mejor solucion: 2550 [0, 5, 20, 34, 33, 15, 37, 36, 35, 31, 25, 41, 9, 8, 7, 14, 16, 19, 4, 18, 26, 6, 13, 3, 29, 40, 12, 11, 10, 27, 2, 1, 30, 38, 22, 39, 21, 24, 23, 28, 32, 17] \n",
            "\n",
            "\t****Encontrada mejor solucion: 2544 [0, 27, 20, 34, 33, 15, 37, 36, 35, 31, 25, 41, 9, 8, 7, 14, 16, 19, 4, 18, 26, 6, 13, 3, 29, 40, 12, 11, 10, 5, 2, 1, 30, 38, 22, 39, 21, 24, 23, 28, 32, 17] \n",
            "\n",
            "\t****Encontrada mejor solucion: 2536 [0, 33, 20, 34, 7, 15, 37, 36, 35, 31, 25, 41, 9, 8, 4, 17, 16, 14, 10, 21, 13, 19, 18, 1, 5, 26, 12, 11, 28, 30, 29, 32, 27, 38, 22, 39, 40, 24, 23, 2, 3, 6] \n",
            "\n",
            "\t****Encontrada mejor solucion: 2459 [0, 33, 20, 34, 7, 15, 37, 36, 35, 31, 2, 21, 9, 8, 4, 17, 16, 14, 10, 41, 13, 19, 18, 1, 5, 26, 12, 11, 28, 30, 29, 32, 27, 38, 22, 39, 40, 24, 23, 25, 3, 6] \n",
            "\n",
            "\t****Encontrada mejor solucion: 2453 [0, 32, 34, 20, 33, 37, 7, 14, 16, 5, 18, 19, 4, 28, 15, 17, 36, 35, 31, 13, 12, 8, 2, 1, 3, 30, 6, 11, 25, 26, 27, 29, 9, 23, 41, 10, 22, 38, 24, 40, 39, 21] \n",
            "\n",
            "\t****Encontrada mejor solucion: 2449 [0, 32, 34, 20, 33, 37, 7, 14, 16, 5, 15, 19, 18, 28, 4, 17, 36, 35, 31, 13, 12, 11, 2, 1, 3, 30, 6, 8, 25, 26, 27, 29, 9, 23, 41, 10, 22, 38, 24, 40, 39, 21] \n",
            "\n",
            "\t****Encontrada mejor solucion: 2385 [0, 32, 34, 20, 17, 37, 7, 14, 16, 19, 15, 13, 27, 28, 4, 33, 36, 35, 31, 5, 12, 11, 2, 1, 3, 30, 6, 8, 18, 26, 25, 10, 9, 23, 41, 29, 22, 38, 24, 40, 39, 21] \n",
            "\n",
            "\t****Encontrada mejor solucion: 2314 [0, 32, 34, 20, 17, 37, 7, 14, 16, 19, 15, 13, 27, 28, 4, 33, 36, 35, 31, 1, 12, 11, 6, 5, 8, 30, 2, 3, 18, 26, 25, 10, 9, 23, 41, 29, 22, 38, 24, 40, 39, 21] \n",
            "\n",
            "\t****Encontrada mejor solucion: 2311 [0, 32, 34, 20, 17, 7, 37, 14, 16, 19, 15, 13, 27, 28, 4, 33, 36, 35, 31, 1, 12, 11, 6, 5, 8, 30, 2, 3, 18, 26, 25, 10, 9, 23, 41, 29, 22, 38, 24, 40, 39, 21] \n",
            "\n",
            "\t****Encontrada mejor solucion: 2296 [0, 32, 34, 20, 17, 7, 37, 14, 13, 19, 15, 16, 27, 28, 4, 33, 36, 35, 31, 1, 12, 11, 6, 5, 8, 30, 2, 3, 18, 26, 25, 10, 9, 23, 41, 29, 22, 38, 24, 40, 39, 21] \n",
            "\n",
            "\t****Encontrada mejor solucion: 2295 [0, 32, 34, 20, 17, 7, 37, 19, 13, 14, 15, 16, 27, 28, 4, 33, 36, 35, 31, 1, 12, 11, 6, 5, 10, 30, 2, 3, 18, 26, 25, 8, 9, 23, 41, 29, 22, 38, 24, 40, 39, 21] \n",
            "\n",
            "\t****Encontrada mejor solucion: 2282 [0, 32, 34, 20, 17, 37, 7, 19, 13, 14, 15, 16, 27, 28, 4, 33, 36, 35, 31, 1, 12, 11, 6, 5, 10, 30, 2, 3, 18, 26, 25, 8, 9, 23, 41, 29, 22, 38, 24, 40, 39, 21] \n",
            "\n",
            "\t****Encontrada mejor solucion: 2273 [0, 27, 4, 20, 17, 37, 16, 19, 13, 14, 15, 1, 32, 28, 34, 33, 36, 35, 31, 7, 12, 11, 6, 26, 10, 25, 2, 3, 18, 5, 30, 29, 9, 23, 41, 8, 22, 38, 24, 40, 39, 21] \n",
            "\n",
            "\t****Encontrada mejor solucion: 2242 [0, 5, 18, 20, 17, 37, 16, 19, 13, 14, 15, 1, 32, 28, 34, 33, 36, 35, 31, 7, 12, 11, 6, 26, 10, 25, 2, 3, 4, 27, 30, 29, 9, 23, 41, 8, 22, 38, 24, 40, 39, 21] \n",
            "\n",
            "\t****Encontrada mejor solucion: 2205 [0, 5, 18, 20, 17, 37, 16, 19, 13, 14, 15, 1, 28, 32, 34, 33, 36, 35, 31, 7, 12, 11, 6, 26, 10, 25, 2, 3, 4, 27, 30, 29, 9, 23, 41, 8, 22, 38, 24, 40, 39, 21] \n",
            "\n",
            "\t****Encontrada mejor solucion: 2162 [0, 5, 18, 20, 17, 37, 16, 19, 13, 14, 15, 1, 28, 32, 34, 33, 36, 35, 31, 7, 12, 11, 6, 26, 10, 25, 2, 3, 4, 27, 30, 29, 9, 23, 41, 8, 22, 38, 24, 40, 21, 39] \n",
            "\n",
            "\t****Encontrada mejor solucion: 2161 [0, 27, 2, 20, 31, 37, 16, 19, 13, 15, 14, 1, 28, 32, 34, 33, 36, 35, 17, 7, 18, 26, 5, 6, 10, 25, 12, 4, 3, 11, 30, 29, 41, 23, 9, 8, 22, 38, 21, 40, 24, 39] \n",
            "\n",
            "\t****Encontrada mejor solucion: 2156 [0, 27, 2, 20, 31, 37, 16, 19, 13, 15, 14, 1, 28, 32, 34, 33, 36, 35, 17, 7, 18, 26, 5, 6, 10, 25, 12, 4, 3, 11, 30, 29, 41, 23, 9, 8, 38, 22, 21, 40, 24, 39] \n",
            "\n",
            "\t****Encontrada mejor solucion: 2155 [0, 27, 2, 20, 31, 37, 16, 19, 13, 15, 14, 1, 3, 32, 34, 33, 36, 35, 17, 7, 18, 26, 5, 6, 12, 25, 10, 4, 28, 11, 30, 29, 41, 23, 9, 8, 38, 22, 21, 40, 24, 39] \n",
            "\n",
            "\t****Encontrada mejor solucion: 2152 [0, 27, 2, 20, 31, 37, 16, 19, 13, 15, 14, 1, 3, 32, 34, 33, 36, 35, 17, 7, 18, 26, 5, 6, 12, 25, 10, 28, 4, 11, 30, 29, 23, 41, 9, 8, 38, 22, 21, 40, 24, 39] \n",
            "\n",
            "\t****Encontrada mejor solucion: 2111 [0, 3, 2, 28, 31, 37, 16, 19, 13, 15, 14, 1, 20, 32, 34, 33, 36, 35, 17, 7, 6, 26, 5, 18, 12, 25, 10, 27, 4, 11, 30, 29, 23, 41, 9, 8, 38, 22, 21, 40, 24, 39] \n",
            "\n",
            "\t****Encontrada mejor solucion: 2108 [0, 3, 2, 28, 31, 37, 13, 19, 16, 15, 14, 1, 20, 32, 34, 33, 36, 35, 17, 7, 6, 26, 5, 18, 12, 25, 10, 27, 4, 11, 30, 29, 8, 41, 9, 23, 38, 22, 39, 40, 24, 21] \n",
            "\n",
            "\t****Encontrada mejor solucion: 2066 [0, 3, 27, 20, 31, 37, 13, 19, 16, 14, 15, 1, 2, 32, 34, 33, 36, 35, 17, 7, 6, 26, 5, 18, 12, 25, 10, 28, 4, 11, 30, 29, 8, 41, 9, 23, 39, 22, 21, 40, 24, 38] \n",
            "\n",
            "\t****Encontrada mejor solucion: 2063 [0, 3, 27, 1, 26, 5, 13, 19, 14, 15, 16, 7, 37, 17, 31, 33, 20, 35, 36, 2, 30, 29, 28, 4, 9, 8, 10, 25, 11, 12, 18, 6, 34, 32, 21, 24, 23, 41, 39, 40, 22, 38] \n",
            "\n",
            "\t****Encontrada mejor solucion: 2062 [0, 27, 2, 3, 1, 30, 36, 35, 31, 37, 15, 16, 7, 17, 26, 5, 13, 14, 6, 19, 18, 10, 8, 41, 23, 25, 11, 12, 4, 28, 32, 20, 33, 34, 39, 21, 24, 40, 9, 38, 22, 29] \n",
            "\n",
            "\t****Encontrada mejor solucion: 2054 [0, 27, 2, 3, 1, 30, 36, 35, 31, 37, 15, 16, 7, 17, 26, 5, 13, 19, 6, 14, 18, 10, 8, 41, 23, 25, 11, 12, 4, 28, 32, 20, 33, 34, 39, 21, 24, 40, 9, 38, 22, 29] \n",
            "\n",
            "\t****Encontrada mejor solucion: 1969 [0, 27, 2, 3, 1, 30, 36, 35, 31, 37, 15, 16, 7, 17, 14, 5, 13, 19, 6, 26, 18, 8, 10, 41, 23, 25, 11, 12, 4, 28, 32, 20, 33, 34, 39, 21, 24, 40, 9, 38, 22, 29] \n",
            "\n",
            "\t****Encontrada mejor solucion: 1963 [0, 27, 2, 3, 29, 30, 36, 35, 31, 37, 15, 16, 7, 17, 14, 5, 13, 19, 6, 26, 18, 8, 10, 41, 23, 25, 11, 12, 4, 28, 32, 20, 33, 34, 39, 21, 24, 40, 9, 38, 22, 1] \n",
            "\n",
            "\t****Encontrada mejor solucion: 1947 [0, 27, 2, 3, 29, 30, 36, 35, 31, 37, 15, 16, 7, 17, 14, 5, 13, 19, 6, 26, 18, 12, 25, 41, 23, 8, 10, 11, 4, 28, 32, 20, 33, 34, 39, 21, 24, 40, 9, 38, 22, 1] \n",
            "\n",
            "\t****Encontrada mejor solucion: 1935 [0, 27, 2, 3, 30, 29, 36, 35, 31, 37, 15, 16, 7, 17, 14, 5, 13, 19, 6, 26, 18, 12, 25, 41, 23, 8, 10, 11, 4, 28, 32, 20, 33, 34, 39, 21, 24, 40, 9, 22, 38, 1] \n",
            "\n",
            "\t****Encontrada mejor solucion: 1909 [0, 27, 2, 3, 30, 34, 36, 35, 31, 37, 15, 16, 7, 17, 14, 5, 13, 19, 6, 26, 18, 12, 25, 41, 23, 8, 10, 11, 4, 28, 32, 20, 33, 38, 39, 40, 24, 21, 9, 22, 29, 1] \n",
            "\n",
            "\t****Encontrada mejor solucion: 1903 [0, 27, 2, 29, 30, 34, 36, 35, 31, 37, 15, 16, 7, 17, 14, 5, 13, 19, 6, 26, 18, 12, 25, 41, 23, 8, 10, 11, 4, 28, 32, 20, 33, 38, 39, 40, 24, 21, 9, 22, 3, 1] \n",
            "\n",
            "\t****Encontrada mejor solucion: 1890 [0, 27, 2, 30, 29, 34, 36, 35, 31, 17, 15, 16, 7, 37, 14, 5, 13, 19, 6, 26, 18, 12, 25, 41, 23, 8, 10, 11, 4, 28, 32, 20, 33, 38, 39, 40, 24, 21, 9, 22, 3, 1] \n",
            "\n",
            "\t****Encontrada mejor solucion: 1885 [0, 32, 30, 29, 4, 6, 17, 36, 35, 31, 7, 16, 37, 14, 15, 13, 19, 5, 26, 18, 11, 12, 25, 9, 23, 41, 8, 28, 3, 1, 20, 33, 34, 2, 10, 40, 21, 24, 39, 22, 38, 27] \n",
            "\n",
            "\t****Encontrada mejor solucion: 1858 [0, 32, 30, 29, 4, 6, 31, 36, 35, 17, 7, 16, 14, 37, 15, 13, 19, 5, 26, 18, 11, 12, 25, 9, 41, 8, 10, 3, 2, 1, 20, 33, 34, 28, 23, 40, 24, 21, 39, 22, 38, 27] \n",
            "\n",
            "\t****Encontrada mejor solucion: 1855 [0, 2, 4, 3, 29, 1, 31, 36, 35, 17, 7, 14, 15, 37, 16, 19, 13, 5, 26, 6, 18, 11, 41, 8, 10, 12, 25, 28, 27, 34, 33, 20, 32, 9, 23, 21, 24, 40, 39, 22, 38, 30] \n",
            "\n",
            "\t****Encontrada mejor solucion: 1852 [0, 3, 4, 2, 28, 1, 31, 36, 35, 17, 7, 16, 15, 37, 14, 5, 13, 19, 26, 6, 18, 25, 41, 8, 10, 12, 11, 27, 29, 34, 33, 20, 32, 23, 9, 40, 24, 21, 39, 22, 38, 30] \n",
            "\n",
            "\t****Encontrada mejor solucion: 1839 [0, 3, 4, 2, 28, 1, 31, 36, 35, 17, 7, 16, 15, 37, 14, 5, 13, 19, 26, 6, 18, 25, 41, 8, 10, 12, 11, 23, 29, 34, 33, 20, 32, 27, 9, 40, 24, 21, 39, 22, 38, 30] \n",
            "\n",
            "\t****Encontrada mejor solucion: 1793 [0, 3, 4, 2, 27, 1, 31, 36, 35, 17, 7, 16, 15, 37, 14, 5, 13, 19, 26, 6, 18, 25, 41, 8, 10, 12, 11, 23, 29, 34, 33, 20, 32, 28, 9, 40, 24, 21, 39, 22, 38, 30] \n",
            "\n",
            "\t****Encontrada mejor solucion: 1778 [0, 2, 27, 1, 3, 4, 17, 35, 36, 31, 37, 15, 16, 14, 7, 26, 18, 13, 19, 5, 6, 10, 25, 11, 12, 41, 23, 8, 29, 28, 32, 34, 20, 33, 9, 21, 24, 40, 39, 22, 38, 30] \n",
            "\n",
            "\t****Encontrada mejor solucion: 1734 [0, 1, 27, 2, 3, 6, 31, 35, 36, 17, 7, 37, 15, 14, 16, 4, 26, 13, 19, 5, 18, 12, 25, 11, 10, 41, 23, 9, 29, 28, 30, 34, 33, 20, 8, 40, 24, 21, 39, 22, 38, 32] \n",
            "\n",
            "\t****Encontrada mejor solucion: 1697 [0, 1, 27, 2, 3, 4, 31, 35, 36, 17, 7, 37, 15, 14, 16, 6, 26, 13, 19, 5, 18, 12, 25, 11, 10, 41, 23, 9, 29, 28, 30, 34, 33, 20, 8, 40, 24, 21, 39, 22, 38, 32] \n",
            "\n",
            "\t****Encontrada mejor solucion: 1696 [0, 1, 4, 2, 27, 3, 31, 35, 36, 17, 7, 37, 15, 14, 16, 6, 26, 19, 13, 5, 18, 12, 25, 10, 11, 41, 23, 9, 29, 28, 20, 33, 34, 30, 8, 40, 24, 21, 39, 22, 38, 32] \n",
            "\n",
            "\t****Encontrada mejor solucion: 1651 [0, 1, 4, 2, 27, 3, 36, 35, 31, 17, 37, 15, 14, 16, 7, 6, 5, 19, 13, 26, 18, 12, 25, 10, 11, 41, 23, 9, 8, 28, 20, 33, 34, 30, 29, 39, 21, 40, 24, 22, 38, 32] \n",
            "\n",
            "\t****Encontrada mejor solucion: 1650 [0, 1, 4, 2, 27, 3, 36, 35, 31, 17, 37, 15, 14, 16, 7, 6, 5, 13, 19, 26, 18, 10, 25, 12, 11, 41, 23, 9, 8, 28, 20, 33, 34, 30, 29, 39, 21, 40, 24, 22, 38, 32] \n",
            "\n",
            "\t****Encontrada mejor solucion: 1644 [0, 1, 4, 2, 27, 3, 36, 35, 31, 17, 37, 15, 14, 16, 7, 6, 5, 19, 13, 26, 18, 10, 25, 12, 11, 41, 23, 9, 8, 28, 20, 33, 34, 30, 29, 39, 21, 40, 24, 22, 38, 32] \n",
            "\n",
            "\t****Encontrada mejor solucion: 1598 [0, 3, 2, 27, 4, 1, 35, 36, 31, 17, 37, 15, 16, 14, 7, 6, 26, 13, 19, 5, 18, 11, 12, 10, 25, 41, 23, 9, 8, 32, 20, 34, 33, 38, 22, 39, 21, 40, 24, 30, 29, 28] \n",
            "\n",
            "\t****Encontrada mejor solucion: 1590 [0, 3, 2, 27, 4, 1, 35, 36, 31, 17, 37, 15, 16, 14, 7, 6, 26, 13, 19, 5, 18, 12, 11, 10, 25, 41, 23, 9, 8, 32, 20, 34, 33, 38, 22, 39, 21, 40, 24, 30, 29, 28] \n",
            "\n",
            "\t****Encontrada mejor solucion: 1587 [0, 27, 3, 2, 4, 1, 31, 35, 36, 17, 37, 16, 15, 14, 19, 13, 7, 6, 5, 26, 18, 11, 12, 10, 25, 41, 23, 8, 30, 34, 33, 20, 32, 38, 22, 39, 21, 24, 40, 9, 29, 28] \n",
            "\n",
            "\t****Encontrada mejor solucion: 1586 [0, 1, 2, 4, 27, 3, 31, 36, 35, 17, 7, 37, 16, 15, 14, 19, 13, 6, 26, 5, 18, 10, 12, 11, 25, 41, 23, 29, 30, 32, 20, 33, 34, 38, 22, 39, 21, 24, 40, 9, 8, 28] \n",
            "\n",
            "\t****Encontrada mejor solucion: 1569 [0, 1, 2, 4, 27, 3, 31, 36, 35, 17, 7, 37, 16, 15, 14, 19, 13, 5, 26, 6, 18, 10, 12, 11, 25, 41, 23, 29, 30, 32, 20, 33, 34, 38, 22, 39, 21, 24, 40, 9, 8, 28] \n",
            "\n",
            "\t****Encontrada mejor solucion: 1566 [0, 1, 2, 4, 27, 3, 17, 36, 35, 31, 7, 37, 16, 15, 14, 19, 13, 5, 26, 6, 18, 10, 12, 11, 25, 41, 23, 29, 30, 32, 20, 33, 34, 38, 22, 39, 21, 24, 40, 9, 8, 28] \n",
            "\n",
            "\t****Encontrada mejor solucion: 1558 [0, 1, 27, 4, 3, 2, 31, 36, 35, 17, 7, 37, 14, 15, 16, 19, 13, 5, 26, 6, 18, 11, 12, 10, 25, 41, 23, 8, 30, 32, 20, 33, 34, 38, 22, 39, 21, 24, 40, 9, 29, 28] \n",
            "\n",
            "\t****Encontrada mejor solucion: 1557 [0, 1, 3, 4, 2, 27, 31, 36, 35, 17, 7, 37, 15, 14, 16, 13, 19, 5, 6, 26, 18, 11, 12, 25, 10, 23, 41, 8, 30, 32, 20, 33, 34, 38, 22, 39, 21, 40, 24, 9, 29, 28] \n",
            "\n",
            "\t****Encontrada mejor solucion: 1544 [0, 1, 3, 4, 2, 27, 31, 36, 35, 17, 7, 37, 15, 14, 16, 13, 19, 5, 6, 26, 18, 11, 12, 25, 10, 23, 41, 8, 30, 32, 20, 33, 34, 38, 22, 39, 24, 40, 21, 9, 29, 28] \n",
            "\n",
            "\t****Encontrada mejor solucion: 1541 [0, 1, 4, 3, 2, 27, 31, 36, 35, 17, 7, 37, 15, 14, 16, 13, 19, 5, 6, 26, 18, 11, 12, 25, 10, 23, 41, 8, 30, 32, 20, 33, 34, 38, 22, 39, 24, 40, 21, 9, 29, 28] \n",
            "\n",
            "\t****Encontrada mejor solucion: 1519 [0, 1, 4, 3, 2, 27, 31, 36, 35, 17, 7, 37, 15, 14, 16, 19, 13, 5, 6, 26, 18, 11, 12, 25, 10, 23, 41, 8, 30, 32, 20, 33, 34, 38, 22, 39, 24, 40, 21, 9, 29, 28] \n",
            "\n",
            "\t****Encontrada mejor solucion: 1502 [0, 1, 4, 3, 2, 27, 31, 36, 35, 17, 7, 37, 15, 14, 16, 19, 13, 5, 6, 26, 18, 12, 11, 25, 10, 23, 41, 8, 30, 32, 20, 33, 34, 38, 22, 39, 24, 40, 21, 9, 29, 28] \n",
            "\n",
            "\t****Encontrada mejor solucion: 1498 [0, 1, 4, 3, 2, 27, 17, 36, 35, 31, 7, 37, 15, 16, 14, 19, 13, 5, 6, 26, 18, 12, 11, 25, 10, 23, 41, 8, 30, 32, 20, 33, 34, 38, 22, 39, 24, 40, 21, 9, 29, 28] \n",
            "\n",
            "\t****Encontrada mejor solucion: 1487 [0, 1, 4, 3, 2, 27, 7, 36, 35, 31, 17, 37, 15, 16, 14, 19, 13, 5, 26, 6, 18, 12, 11, 25, 10, 23, 41, 8, 30, 32, 20, 33, 34, 38, 22, 39, 24, 40, 21, 9, 29, 28] \n",
            "\n",
            "\t****Encontrada mejor solucion: 1483 [0, 1, 4, 2, 27, 3, 7, 35, 36, 31, 17, 37, 15, 16, 14, 19, 13, 5, 6, 26, 18, 12, 11, 25, 10, 23, 41, 8, 30, 32, 20, 33, 34, 38, 22, 39, 24, 40, 21, 9, 29, 28] \n",
            "\n",
            "\t****Encontrada mejor solucion: 1475 [0, 3, 4, 2, 27, 1, 7, 35, 36, 31, 17, 37, 15, 16, 14, 19, 13, 5, 6, 26, 18, 12, 11, 25, 10, 23, 41, 8, 30, 32, 20, 33, 34, 38, 22, 39, 24, 40, 21, 9, 29, 28] \n",
            "\n",
            "\t****Encontrada mejor solucion: 1464 [0, 3, 4, 2, 27, 1, 7, 36, 35, 31, 17, 37, 15, 16, 14, 19, 13, 5, 6, 26, 18, 12, 11, 25, 10, 23, 41, 8, 30, 32, 20, 33, 34, 38, 22, 39, 24, 40, 21, 9, 29, 28] \n",
            "\n",
            "\t****Encontrada mejor solucion: 1453 [0, 3, 4, 2, 27, 1, 7, 36, 35, 31, 17, 37, 15, 16, 14, 19, 13, 5, 6, 26, 18, 12, 11, 25, 10, 41, 23, 8, 30, 32, 20, 33, 34, 38, 22, 39, 24, 40, 21, 9, 29, 28] \n",
            "\n",
            "\t****Encontrada mejor solucion: 1443 [0, 3, 4, 2, 27, 1, 7, 31, 35, 36, 17, 37, 15, 16, 14, 19, 13, 5, 6, 26, 18, 12, 11, 25, 10, 41, 23, 29, 30, 32, 20, 33, 34, 38, 22, 39, 24, 40, 21, 9, 8, 28] \n",
            "\n",
            "\t****Encontrada mejor solucion: 1434 [0, 27, 2, 3, 4, 1, 7, 31, 35, 36, 17, 37, 15, 16, 14, 19, 13, 5, 6, 26, 18, 12, 11, 25, 10, 41, 23, 8, 30, 32, 20, 33, 34, 38, 22, 39, 24, 40, 21, 9, 29, 28] \n",
            "\n",
            "La mejor solución encontrada es : 1434 [0, 27, 2, 3, 4, 1, 7, 31, 35, 36, 17, 37, 15, 16, 14, 19, 13, 5, 6, 26, 18, 12, 11, 25, 10, 41, 23, 8, 30, 32, 20, 33, 34, 38, 22, 39, 24, 40, 21, 9, 29, 28]\n"
          ],
          "name": "stdout"
        }
      ]
    },
    {
      "cell_type": "markdown",
      "metadata": {
        "id": "ej1Yb4sn4WfC",
        "colab_type": "text"
      },
      "source": [
        "# __caso 4: Método constructivo. Colonia de Hormigas__\n",
        "- ¿Que elegimos de la siguiente ciudad?\n",
        "  - Distancias con el nodo de referencia.\n",
        "  - Las distancias con más feromonas.\n",
        "  - Se incluye un componente aleatorio, para ser capaces de explorar nuevos caminos, que no se \"están explorando\" normalmente por las hormigas, pero que \"de vez en cuando\" se va teniendo en cuenta por los siguientes \"agentes u hormigas\"\n",
        "\n",
        "\n",
        "__Conclusiones__: No baja le valor de la solución porque estamso usando operadores muy simples, y tenemos un componente aleatorio MUY elevado por la función nodo"
      ]
    },
    {
      "cell_type": "code",
      "metadata": {
        "id": "Zr7AHfYD3a3d",
        "colab_type": "code",
        "outputId": "2de88745-c413-4913-96b5-7b4d7bbea8d7",
        "colab": {
          "base_uri": "https://localhost:8080/",
          "height": 108
        }
      },
      "source": [
        "# Funciones auxiliares. Colonia de hormigas\n",
        "\n",
        "#Poco eficiente, demasiado aleatoria. H solucion\n",
        "def Add_Nodo(problem, H ,T ) :\n",
        "  #Establecer una una funcion de probabilidad para añadir un nuevo nodo \n",
        "  # dependiendo de los nodos mas cercanos y de las feromonas depositadas\n",
        "  Nodos = list(problem.get_nodes())\n",
        "  return random.choice(   list(set(range(1,len(Nodos))) - set(H) )  ) \n",
        "  # Elige un nodo cualquiera de los que \"no han sido elegidos\"\n",
        "\n",
        "#Refuerza las soluciones que sean buenas\n",
        "def Incrementa_Feromona(problem, T, H):\n",
        "  #Incrementar segun la calidad de la solución. Añadir una cantidad \n",
        "  # inversamente proporcional a la distancia total \n",
        "  for i in range(len(H)-1):\n",
        "    T[H[i]][H[i+1]] += 1000/distancia_total(H, problem)\n",
        "  return T\n",
        "\n",
        "def Evaporar_Feromonas(T):\n",
        "  #Podemos elegir diferentes funciones de evaporación dependiendo de la \n",
        "  # cantidad actual y de la suma total de feromonas depositadas,...\n",
        "  #Evapora 0.3 el valor de la feromona, sin que baje de 1\n",
        "  T = [[ max(T[i][j] - 0.3 , 1) for i in range(len(Nodos)) ] for j in range(len(Nodos))]\n",
        "  return T\n",
        "#_______________________________________________________________________________  \n",
        "# PRIMERA ITERACION.\n",
        "# Problem : datos del problema\n",
        "# N = Número de agnetes (hormigas)\n",
        "\n",
        "def hormigas(problem, N) :\n",
        "  #problem = datos del problema\n",
        "  #N = Número de agentes(hormigas)\n",
        "    \n",
        "  #Nodos\n",
        "  Nodos = list(problem.get_nodes())\n",
        "  #Aristas\n",
        "  Aristas = list(problem.get_edges()) \n",
        "  \n",
        "  #Inicializa las aristas con una cantidad inicial de feromonas:1\n",
        "  T = [[ 1 for _ in range(len(Nodos)) ] for _ in range(len(Nodos))]\n",
        "  \n",
        "  #Se generan los agentes(hormigas) que serán estructuras de caminos desde 0\n",
        "  Hormiga = [[0] for _ in range(N)]  #inicializo todo a ceros\n",
        "\n",
        "  #_____________________________________________________________________________\n",
        "  #Siguientes iteraciones\n",
        "  #Recorre cada agente construyendo la solución (h simula el número de hormiga )\n",
        "  for h in range(N) :\n",
        "    #print(\"\\nAgente:\", h)\n",
        "    #Para cada agente se construye un camino\n",
        "    for i in range(len(Nodos)-1) :\n",
        "      \n",
        "      #Elige el siguiente nodo\n",
        "      Nuevo_Nodo = Add_Nodo(problem, Hormiga[h] ,T )\n",
        "      Hormiga[h].append(Nuevo_Nodo)     \n",
        "    \n",
        "    #Incrementa feromonas en esa arista \n",
        "    T = Incrementa_Feromona(problem, T, Hormiga[h] )\n",
        "    #print(\"Feromonas(1)\", T)\n",
        "      \n",
        "    #Evapora Feromonas  \n",
        "    T = Evaporar_Feromonas(T)\n",
        "    #print(\"Feromonas(2)\", T)\n",
        "\n",
        "    #Seleccionamos el mejor agente\n",
        "  mejor_solucion = []\n",
        "  mejor_distancia = 10e100\n",
        "  for h in range(N) :\n",
        "    distancia_actual = distancia_total(Hormiga[h], problem)\n",
        "    if distancia_actual < mejor_distancia:\n",
        "      mejor_solucion = Hormiga[h]\n",
        "      mejor_distancia =distancia_actual\n",
        "  \n",
        " \n",
        "  print(\"Mejor solucion\", mejor_solucion,\"\\n\")\n",
        "  print(\"\\nMejor distancia:\\n\",mejor_distancia)\n",
        "\n",
        "# No baja le valor de la solución porque estamso usando operadores muy simples,\n",
        "# y enemos un componente aleatorio MUY elevado por la función nodo\n",
        "hormigas(problem,1000)"
      ],
      "execution_count": 26,
      "outputs": [
        {
          "output_type": "stream",
          "text": [
            "Mejor solucion [0, 8, 21, 12, 26, 3, 27, 6, 19, 35, 30, 38, 24, 2, 9, 29, 10, 18, 4, 16, 20, 25, 5, 41, 11, 40, 39, 32, 1, 33, 13, 15, 36, 37, 14, 34, 23, 22, 31, 7, 17, 28] \n",
            "\n",
            "\n",
            "Mejor distancia:\n",
            " 3940\n"
          ],
          "name": "stdout"
        }
      ]
    }
  ]
}