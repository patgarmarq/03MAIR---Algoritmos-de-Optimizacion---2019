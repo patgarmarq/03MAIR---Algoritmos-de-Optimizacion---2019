{
  "nbformat": 4,
  "nbformat_minor": 0,
  "metadata": {
    "colab": {
      "name": "Patricia Garcia  - AG1.ipynb",
      "provenance": [],
      "collapsed_sections": [],
      "authorship_tag": "ABX9TyPGcoXxUSolWC+LODwrJX8/",
      "include_colab_link": true
    },
    "kernelspec": {
      "name": "python3",
      "display_name": "Python 3"
    }
  },
  "cells": [
    {
      "cell_type": "markdown",
      "metadata": {
        "id": "view-in-github",
        "colab_type": "text"
      },
      "source": [
        "<a href=\"https://colab.research.google.com/github/patgarmarq/03MAIR---Algoritmos-de-Optimizacion---2019/blob/master/Patricia_Garcia_AG1.ipynb\" target=\"_parent\"><img src=\"https://colab.research.google.com/assets/colab-badge.svg\" alt=\"Open In Colab\"/></a>"
      ]
    },
    {
      "cell_type": "markdown",
      "metadata": {
        "id": "sQm-GPOmdKwJ",
        "colab_type": "text"
      },
      "source": [
        "AG1. Algoritmos de Optimización <br>\n",
        "Patricia García Marquina<br>\n",
        "https://colab.research.google.com/drive/1mqzVVlLfDeQVV6kdI051zULlGO2dd6VD <br>\n",
        "Git (en Master): https://github.com/patgarmarq/03MAIR---Algoritmos-de-Optimizacion---2019 <br>"
      ]
    },
    {
      "cell_type": "markdown",
      "metadata": {
        "id": "xazpAkxEPHO3",
        "colab_type": "text"
      },
      "source": [
        "# Notas al profesor:\n",
        "- Los apartados de este archivo contienen:\n",
        "  - Problema 1. Torres de Hanoy\n",
        "  - Problema 2. Problema de las cuatro reinas.\n",
        " \n",
        "- Adicionalmente se han incluido notas y comentarios en el código."
      ]
    },
    {
      "cell_type": "markdown",
      "metadata": {
        "id": "a1FAjyJrmovp",
        "colab_type": "text"
      },
      "source": [
        "# __Divide y vencerás__\n",
        "## _Problema 1._ Torres de Hanoy \n",
        "\n",
        "- Mediante la función __torres__ y el uso de recursividad, se resuelve el problema de torres de Hanoi. Con el uso de recursividad se irá dividiendo el problemas en partes más pequeñas con las que conseguir resolver este problema. La función recibe como parámetros:\n",
        "  - __N__: el número de fichas que hay que mover.\n",
        "  - __desde__: Indica la torre origen donde se encuentran las fichas inicialmente.\n",
        "  - __hasta__: Indica la torre destino donde deberán estar totas las fichas al final del ejercicio.\n",
        "\n",
        "##### __Conclusiones__:\n",
        "\n",
        "- El número de operaciones elementales para esta función son:\n",
        "  - En el caso de _N =1_: Tenemos una operación -> __$T(1) = 1$__\n",
        "  - En el caso _N !=1_: Llama dos veces a la función torres conun elemento menos. __$T(n) =1+2·T(N-1) = 1+2·(1+2·T(N-2)) = 1 +2+2^2+ ...+ 2·T^n(1) = 2^n -1$__\n",
        "\n",
        "- __Complejidad__ : $O(2^n)$ Exponencial\n"
      ]
    },
    {
      "cell_type": "code",
      "metadata": {
        "id": "0MIxXKDoeCTZ",
        "colab_type": "code",
        "outputId": "f38f4309-aba1-43ed-d900-be476787871c",
        "colab": {
          "base_uri": "https://localhost:8080/",
          "height": 272
        }
      },
      "source": [
        "# N numero fichas, desde: torre origen, hasta: torre destino\n",
        "def torres(N,desde,hasta):\n",
        "  if N == 1:   \n",
        "    print(\"Lleva la ficha desde\", desde, \" hasta \", hasta)\n",
        "  \n",
        "  else:  \n",
        "    torres(N-1, desde, 6-desde-hasta)  \n",
        "    print(\"Lleva la ficha desde\", desde, \" hasta \", hasta)\n",
        "    torres(N-1, 6-desde-hasta, hasta) \n",
        "\n",
        "# Solución para el caso de ir de Torre 1 a Torre 3 con 4 fichas\n",
        "torres(4,1,3)"
      ],
      "execution_count": 1,
      "outputs": [
        {
          "output_type": "stream",
          "text": [
            "Lleva la ficha desde 1  hasta  2\n",
            "Lleva la ficha desde 1  hasta  3\n",
            "Lleva la ficha desde 2  hasta  3\n",
            "Lleva la ficha desde 1  hasta  2\n",
            "Lleva la ficha desde 3  hasta  1\n",
            "Lleva la ficha desde 3  hasta  2\n",
            "Lleva la ficha desde 1  hasta  2\n",
            "Lleva la ficha desde 1  hasta  3\n",
            "Lleva la ficha desde 2  hasta  3\n",
            "Lleva la ficha desde 2  hasta  1\n",
            "Lleva la ficha desde 3  hasta  1\n",
            "Lleva la ficha desde 2  hasta  3\n",
            "Lleva la ficha desde 1  hasta  2\n",
            "Lleva la ficha desde 1  hasta  3\n",
            "Lleva la ficha desde 2  hasta  3\n"
          ],
          "name": "stdout"
        }
      ]
    },
    {
      "cell_type": "markdown",
      "metadata": {
        "id": "d_zNQA7upZEi",
        "colab_type": "text"
      },
      "source": [
        "# __Algoritmo con técnida de vuelta atrás__\n",
        "## Problema 2. Problema de las cuatro reinas\n",
        "\n",
        "- Tenemos un tablero 4x4 donde hay 4 reinas y su posición en el mismo, va representado por __tuplas (x1, x2, x3, x4)__ donde cada elemento representa la posiciónd de una reina en la colummna i-ésima de la tupla.\n",
        "\n",
        "- Restricciones: \n",
        "  - Solo una reina por columna, ya se cumple puesto que cada posición de la tupla representa a una reina (primer elemento es la reina 1, ...).\n",
        "  - No podemos tener dos reinas en la misma fila (Se ve si tenemos dos valores iguales para una solución parcial.\n",
        "  - Dos reinas adyacentes no pueden estar en la misma diagonal ( $|x_i -x_j|=|i-j|$)\n",
        "  \n",
        "\n",
        "\n",
        "### __Ejercicio__\n",
        "- La función __reinas__ utiliza recursividad  para ir construyendo las etapas. En cada etapa va añadiendo una reina y verifica si es prometedora la función. Recibe como parámetros:\n",
        "  - __N__: número de reinas del tablero NxN\n",
        "  - __solucion__: = Almacenará las solucion en un array del tipo [0 ,0, ...,0]\n",
        "  - __etapa__: = 0, irá incrementando según se construyan las diferentes etapas.\n",
        "\n",
        "\n",
        "- __Complejidad__: $O(n)= n^2 $  Exponencial\n"
      ]
    },
    {
      "cell_type": "code",
      "metadata": {
        "id": "6nSxKYNwrZI6",
        "colab_type": "code",
        "outputId": "9582620a-fa16-4c37-d217-d4293c0ce1f3",
        "colab": {
          "base_uri": "https://localhost:8080/",
          "height": 153
        }
      },
      "source": [
        "# N:numero de reinas en el tablero NxN, solucion= [0,0,...,0], Etapa = 0\n",
        "# En cada etapa, añade una reina. Comprueba si es prometedora\n",
        "# Si es prometedora en la última etapa -> solucion\n",
        "\n",
        "def reinas(N, solucion, etapa):\n",
        "  \n",
        "  for i in range(1,N+1):\n",
        "    solucion[etapa] = i\n",
        "\n",
        "   # print(solucion)\n",
        "    if es_prometedora(solucion,etapa):\n",
        "      if etapa == N-1:\n",
        "        print(\"\\n\\nLa solución es:\\n\",solucion)\n",
        "      \n",
        "      else:\n",
        "        #  print(\"***Es prometedora\\n_______________________\")\n",
        "        reinas(N,solucion,etapa+1)\n",
        "    else:\n",
        "     # print(\"No es prometedora\\n_______________________\")\n",
        "      None\n",
        "    solucion[etapa] = 0\n",
        "\n",
        "# Reina que no esté en la misma fila ni diagonal\n",
        "def es_prometedora(SOLUCION, etapa):\n",
        "  \n",
        "  # Si la solucion tiene dos valores iguales, no es válida (2 R en la misma fila)\n",
        "  for i in range(etapa+1):\n",
        "    #print(\"El valor \", solucion[i], \"está\",    solucion.count(solucion[i]), \" veces\")\n",
        "    if SOLUCION.count(SOLUCION[i]) > 1:\n",
        "      return False\n",
        "    \n",
        "    #Validar diagonales\n",
        "    for j in range(i+1, etapa+1):\n",
        "      #print(\"Comprobando diagonal de\", i, \" y \", j)\n",
        "      if abs(i-j) == abs(SOLUCION[i]-SOLUCION[j]):\n",
        "        return False\n",
        "  return True\n",
        "\n",
        "\n",
        "so = [0,0,0,0]\n",
        "n = 4\n",
        "etap = 0\n",
        "reinas(n,so,etap)"
      ],
      "execution_count": 2,
      "outputs": [
        {
          "output_type": "stream",
          "text": [
            "\n",
            "\n",
            "La solución es:\n",
            " [2, 4, 1, 3]\n",
            "\n",
            "\n",
            "La solución es:\n",
            " [3, 1, 4, 2]\n"
          ],
          "name": "stdout"
        }
      ]
    }
  ]
}