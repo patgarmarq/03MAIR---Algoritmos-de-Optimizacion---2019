{
  "nbformat": 4,
  "nbformat_minor": 0,
  "metadata": {
    "colab": {
      "name": "Patricia Garcia - AG2.ipynb",
      "provenance": [],
      "collapsed_sections": [],
      "authorship_tag": "ABX9TyN80qLB/VEM55dHP2srQtNC",
      "include_colab_link": true
    },
    "kernelspec": {
      "name": "python3",
      "display_name": "Python 3"
    }
  },
  "cells": [
    {
      "cell_type": "markdown",
      "metadata": {
        "id": "view-in-github",
        "colab_type": "text"
      },
      "source": [
        "<a href=\"https://colab.research.google.com/github/patgarmarq/03MAIR---Algoritmos-de-Optimizacion---2019/blob/master/Patricia_Garcia_AG2.ipynb\" target=\"_parent\"><img src=\"https://colab.research.google.com/assets/colab-badge.svg\" alt=\"Open In Colab\"/></a>"
      ]
    },
    {
      "cell_type": "markdown",
      "metadata": {
        "id": "TAfGCy2gIyvE",
        "colab_type": "text"
      },
      "source": [
        "Actividad Guiada 2 <br>\n",
        "Nombre: Patricia García Marquina. <br>\n",
        "Link: https://colab.research.google.com/drive/16WGv5RlYi_rFLzzJv5BwGJHBQr_-LqDK  <br>\n",
        "Git (en Master):https://github.com/patgarmarq/03MAIR---Algoritmos-de-Optimizacion---2019 <br>\n"
      ]
    },
    {
      "cell_type": "markdown",
      "metadata": {
        "id": "HzA7cpEzEyG-",
        "colab_type": "text"
      },
      "source": [
        "# Notas al profesor:\n",
        "- Los apartados de este archivo contienen:\n",
        "  - Problema 1. Viaje por el río\n",
        "  - Problema 2. Asignación de tareas\n",
        "  - Problemas adicionales:\n",
        "    - Método: Fuerza bruta (donde se resuelve el ejercicio de las tareas, mediante este método).\n",
        "    - Preguntas, donde se resuelven las cuestiones pedidas en las transparencias de la AG2 y que se detallan a continuación. \n",
        "\n",
        "- Adicionalmente se han incluido notas y comentarios en el código."
      ]
    },
    {
      "cell_type": "markdown",
      "metadata": {
        "id": "KTE5MuYNJoG2",
        "colab_type": "text"
      },
      "source": [
        "# __Programación dinámica__\n",
        "## _Problema 1_. Viaje por el río\n",
        "\n",
        "- $T(i,k)$ contiene los precios de los embarcaderos.\n",
        "- Asignar valores excesivamente altos a las rutas que no se pueden acceder.\n",
        "\n",
        "- Vamos a hacer un recorrido, donde se busca el menor coste posible para ir del nodo __i__ al nodo __j__. En este caso se buscará ir del nodo 0 al nodo 6.\n",
        "\n"
      ]
    },
    {
      "cell_type": "code",
      "metadata": {
        "id": "FEpuE6XCJVCb",
        "colab_type": "code",
        "colab": {}
      },
      "source": [
        "#Define el precio de ir del embarcadero i al j. Siendo i (filas) el origen y j (columnas) el destino\n",
        "# Costes = 0 indican que de un nodo así mismo el coste es 0 -> no se cuenta, no tiene sentido\n",
        "TARIFAS = [\n",
        "[0,5,4,3,999,999,999],          # Desde nodo 0 al resto\n",
        "[999,0,999,2,3,999,11],         # Desde nodo 1\n",
        "[999,999, 0,1,999,4,10],        # Desde nodo 2\n",
        "[999,999,999, 0,5,6,9],         # Desde nodo 2\n",
        "[999,999, 999,999,0,999,4],     # Desde nodo 2\n",
        "[999,999, 999,999,999,0,3],     # Desde nodo 2\n",
        "[999,999,999,999,999,999,0]     # Desde nodo 2\n",
        "]\n"
      ],
      "execution_count": 0,
      "outputs": []
    },
    {
      "cell_type": "markdown",
      "metadata": {
        "id": "JCDQdmveMODQ",
        "colab_type": "text"
      },
      "source": [
        "- La función __Precios__ Calcula el coste de ir del nodo i al j.\n",
        "    - Array __PRECIOS__ guardará el coste de los transbordos. Se inicializa con valores muy altos, que se irán corrigiendo a medida que avanzamos el ejercicio.\n",
        "    - Array __RUTA__ contendrá los nodos intermedios por los que se irán pasando. Se inicializa vacío\n",
        "    - __N__ es el número de nodos, por eso inicializamos con n·n y se inicializa vacío.\n",
        "    \n",
        "- Al final de cada iteración se comprueba si existen nodos intermedios entre el nodo __i__ y __j__ correspondiente y se actualizan los datos, si es posible:\n",
        "  - Se define la tabla intermedia para obtener __soluciones óptimas parciales__ para ir de __i a j__ con la siguiente fórmula:\n",
        "\n",
        "- $C(i,j) = min({T(i,j), C(i,k) + T(k,j)})$  para todo $i < k \\leq j$\n",
        "\n",
        "- La función devuelve una tupla con dos valores [PRECIOS, RUTA]\n"
      ]
    },
    {
      "cell_type": "code",
      "metadata": {
        "id": "kRdVShdSLbZB",
        "colab_type": "code",
        "outputId": "e5422bcc-67b0-423e-ec7d-cdd47e0807e8",
        "colab": {
          "base_uri": "https://localhost:8080/",
          "height": 425
        }
      },
      "source": [
        "################################################################  \n",
        "def Precios(TARIFAS):\n",
        "################################################################  \n",
        "  #Total de Nodos\n",
        "    N = len(TARIFAS[0])\n",
        "\n",
        "    #Inicialización de la tabla de precios\n",
        "    PRECIOS = [ [9999]*N for i in [9999]*N]  # MAtriz NxN\n",
        "    RUTA = [ [\"\"]*N for i in [\"\"]*N]        # Guarda nodos intermedios, si los hay\n",
        "\n",
        "    for i in range(N-1):  \n",
        "        for j in range(i+1, N):   #No se cuenta el primero (no puede ser el desitno el mismo nodo)\n",
        "            MIN = TARIFAS[i][j]    # Guardo como MIN, para este ij el coste que tiene TARIFAS\n",
        "            RUTA[i][j] = i\n",
        "            \n",
        "            # Busca si hay nodos k (intermedio entre i y j)\n",
        "            for k in range(i, j):         \n",
        "                if PRECIOS[i][k] + TARIFAS[k][j] < MIN:\n",
        "                    MIN = min(MIN, PRECIOS[i][k] + TARIFAS[k][j] )\n",
        "                    RUTA[i][j] = k\n",
        "                PRECIOS[i][j] = MIN\n",
        "\n",
        "    return PRECIOS,RUTA\n",
        "\n",
        "# Para mostrar las tablas o arrays: \n",
        "solucion = Precios(TARIFAS)\n",
        "RUTA = solucion[1]\n",
        "PRECIOS = solucion[0]\n",
        "\n",
        "display('TARIFAS (INICIAL)',TARIFAS)\n",
        "display('PRECIOS', PRECIOS)\n",
        "display('RUTA', RUTA)\n"
      ],
      "execution_count": 2,
      "outputs": [
        {
          "output_type": "display_data",
          "data": {
            "text/plain": [
              "'TARIFAS (INICIAL)'"
            ]
          },
          "metadata": {
            "tags": []
          }
        },
        {
          "output_type": "display_data",
          "data": {
            "text/plain": [
              "[[0, 5, 4, 3, 999, 999, 999],\n",
              " [999, 0, 999, 2, 3, 999, 11],\n",
              " [999, 999, 0, 1, 999, 4, 10],\n",
              " [999, 999, 999, 0, 5, 6, 9],\n",
              " [999, 999, 999, 999, 0, 999, 4],\n",
              " [999, 999, 999, 999, 999, 0, 3],\n",
              " [999, 999, 999, 999, 999, 999, 0]]"
            ]
          },
          "metadata": {
            "tags": []
          }
        },
        {
          "output_type": "display_data",
          "data": {
            "text/plain": [
              "'PRECIOS'"
            ]
          },
          "metadata": {
            "tags": []
          }
        },
        {
          "output_type": "display_data",
          "data": {
            "text/plain": [
              "[[9999, 5, 4, 3, 8, 8, 11],\n",
              " [9999, 9999, 999, 2, 3, 8, 7],\n",
              " [9999, 9999, 9999, 1, 6, 4, 7],\n",
              " [9999, 9999, 9999, 9999, 5, 6, 9],\n",
              " [9999, 9999, 9999, 9999, 9999, 999, 4],\n",
              " [9999, 9999, 9999, 9999, 9999, 9999, 3],\n",
              " [9999, 9999, 9999, 9999, 9999, 9999, 9999]]"
            ]
          },
          "metadata": {
            "tags": []
          }
        },
        {
          "output_type": "display_data",
          "data": {
            "text/plain": [
              "'RUTA'"
            ]
          },
          "metadata": {
            "tags": []
          }
        },
        {
          "output_type": "display_data",
          "data": {
            "text/plain": [
              "[['', 0, 0, 0, 1, 2, 5],\n",
              " ['', '', 1, 1, 1, 3, 4],\n",
              " ['', '', '', 2, 3, 2, 5],\n",
              " ['', '', '', '', 3, 3, 3],\n",
              " ['', '', '', '', '', 4, 4],\n",
              " ['', '', '', '', '', '', 5],\n",
              " ['', '', '', '', '', '', '']]"
            ]
          },
          "metadata": {
            "tags": []
          }
        }
      ]
    },
    {
      "cell_type": "code",
      "metadata": {
        "id": "dJhU_ehkL96i",
        "colab_type": "code",
        "outputId": "9fc534e5-a522-4cac-fb10-d4c5aa20fe93",
        "colab": {
          "base_uri": "https://localhost:8080/",
          "height": 68
        }
      },
      "source": [
        "def calcular_ruta(RUTA, desde, hasta):\n",
        "  if desde == RUTA[desde][hasta]:\n",
        "      #  print(\"des: \",desde,\"   hast: \",hasta,\"\\nIr a :\" + str(desde))\n",
        "        return desde \n",
        "        \n",
        "  else:\n",
        "    #  print(\"des: \",desde,\"   hast: \",hasta)\n",
        "      return str(calcular_ruta(RUTA, desde, RUTA[desde][hasta])) +  ',' + str(RUTA[desde][hasta]) \n",
        "\n",
        "print(\"\\nLa ruta es:\")  \n",
        "calcular_ruta(RUTA, 0,6)\n"
      ],
      "execution_count": 3,
      "outputs": [
        {
          "output_type": "stream",
          "text": [
            "\n",
            "La ruta es:\n"
          ],
          "name": "stdout"
        },
        {
          "output_type": "execute_result",
          "data": {
            "text/plain": [
              "'0,2,5'"
            ]
          },
          "metadata": {
            "tags": []
          },
          "execution_count": 3
        }
      ]
    },
    {
      "cell_type": "markdown",
      "metadata": {
        "id": "7vtdh_EqawsB",
        "colab_type": "text"
      },
      "source": [
        "# **Ramificación y poda**\n",
        "## Problema 2. Asignación de tareas\n",
        "\n",
        "- Objetivo: maximizar el rendimiento.\n",
        "- Hay que asignar _n tareas a n agentes_, de forma que a cada agente le corresponda una tarea.\n",
        "- Se dispone de una tabla de costes: el coste para el agente i de realizar la tarea j es cij >=0.\n",
        "\n",
        "- Aplicaciones: Ejemplo de tabla de __costes__ para n=4. Agentes: a, b, c y d. Tareas: 1,2,3 y 4\n",
        "\n",
        "#### Modelamos las soluciones con tuplas\n",
        "- La tupla (1,0,3,2) Representa la solución de asignar:\n",
        "    - Agente 0 a la tarea 1\n",
        "    - Agente 1 a la tarea 0\n",
        "    - Agente 2 a la tarea 3\n",
        "    - Agente 3 a la tarea 2\n",
        "\n"
      ]
    },
    {
      "cell_type": "code",
      "metadata": {
        "id": "OOhcvgZnchCU",
        "colab_type": "code",
        "colab": {
          "base_uri": "https://localhost:8080/",
          "height": 34
        },
        "outputId": "444bf216-bfd8-4ccb-fa1d-53108cb09596"
      },
      "source": [
        "#Tareas:  1  2  3  4\n",
        "COSTES=[[11,12,18,40],    # Agente 1\n",
        "        [14,15,13,22],    # Agente 2\n",
        "        [11,17,19,23],    # Agente 3\n",
        "        [17,14,20,28]]    # Agente 4\n",
        "\n",
        "#Función objetivo \n",
        "def valor(S,COSTES):\n",
        "    VALOR = 0\n",
        "    for i in range(len(S)):         # Recorre cada asignación y calcula el coste\n",
        "        VALOR += COSTES[i] [S[i]]    # Se ha actualizado los índices de COSTES\n",
        "    return VALOR\n",
        "    \n",
        "  \n",
        "valor((0, 1, 2, 3),COSTES)\n",
        "# Coste de asignar Ag0 = T0, Ag1=T1 , Ag2=T2 y Ag3=T3 \n",
        "# Viendo la tabla costes -> 11+15+19+28 = 73"
      ],
      "execution_count": 4,
      "outputs": [
        {
          "output_type": "execute_result",
          "data": {
            "text/plain": [
              "73"
            ]
          },
          "metadata": {
            "tags": []
          },
          "execution_count": 4
        }
      ]
    },
    {
      "cell_type": "markdown",
      "metadata": {
        "id": "1u1O0Xyk3G7c",
        "colab_type": "text"
      },
      "source": [
        "- Funciones CI y CS calculan la cota inferior y la cota superior, respectivamente."
      ]
    },
    {
      "cell_type": "code",
      "metadata": {
        "id": "NFotBIFydaST",
        "colab_type": "code",
        "colab": {}
      },
      "source": [
        "#Coste inferior para soluciones parciales\n",
        "# Si: (1,3,) Se asigna la T1 al agente 0 y la T3 al agente 1\n",
        "\n",
        "\n",
        "def CI(S,COSTES):\n",
        "  VALOR = 0\n",
        "  #Valores establecidos\n",
        "  for i in range(len(S)):\n",
        "    VALOR += COSTES[i][S[i]]\n",
        "\n",
        "  #Estimacion. Se recorren todas las posibilidades.\n",
        "  for i in range(  len(COSTES) ):\n",
        "    #Entra cuando existen agentes sin asignar tareas\n",
        "    if i not in S:                      \n",
        "      VALOR += min( [ COSTES[j][i] for j in range(len(S), len(COSTES))  ])  \n",
        "  return VALOR\n",
        "\n",
        "# Funcion que calcula la Cota superior\n",
        "def CS(S,COSTES):\n",
        "  VALOR = 0\n",
        "  #Valores establecidos\n",
        "  for i in range(len(S)):\n",
        "    VALOR += COSTES[i][S[i]]\n",
        "\n",
        "  #Estimacion. (Maximo valor)\n",
        "  for i in range(  len(COSTES)):\n",
        "    if i not in S:\n",
        "      VALOR += max( [ COSTES[j][i] for j in range(len(S), len(COSTES))  ])\n",
        "  return VALOR"
      ],
      "execution_count": 0,
      "outputs": []
    },
    {
      "cell_type": "markdown",
      "metadata": {
        "id": "r_oSHuWe2HLg",
        "colab_type": "text"
      },
      "source": [
        "- __crear_hijos__ Genera tantos hijos como posibilidades tenga desde el __NODO__ que se le indique.\n",
        "  - (0,) -> (0,1), (0,2), (0,3) Significa que si se asigna la tarea 0 al agente cero, la siguiente posibilidad (o hijo) podrá ser 1, 2 o 3\n",
        "\n"
      ]
    },
    {
      "cell_type": "code",
      "metadata": {
        "id": "oVnTZJ-2n5LE",
        "colab_type": "code",
        "colab": {}
      },
      "source": [
        "#Genera tantos hijos como como posibilidades haya para la siguiente elemento de la tupla\n",
        "#(0,) -> (0,1), (0,2), (0,3)\n",
        "def crear_hijos(NODO, N):\n",
        "  HIJOS = []\n",
        "  for i in range(N):\n",
        "    if i not in NODO:\n",
        "      HIJOS.append({'s':NODO +(i,)    })\n",
        "  return HIJOS"
      ],
      "execution_count": 0,
      "outputs": []
    },
    {
      "cell_type": "markdown",
      "metadata": {
        "id": "Y8Em3bRf3bhL",
        "colab_type": "text"
      },
      "source": [
        "- La función __ramificacion_y_poda__ es la función objetivo (proceso principal)\n",
        "y que representa la esturctura de un nodo. Aquí se inicializan las variables a utilizar y se van explorando los nodos.\n",
        "\n",
        "    - Destacar que __MEJOR_SOLUCION__ es una tupla que se inicializa con el valor de la diagonal, pero , podría seguirse otro criterio.\n",
        "\n",
        "- Mientras tengamos nodos, se seguirá explorando. Se busca el nodo __mas prometedor__ (el de menor coste). \n",
        "\n",
        "- Por cada nodo, se generan nuestros hijos y los ponemos en una variable independiente. Los hijos consisten en un diccionario que contiene __la solución y la cota inferior__.\n"
      ]
    },
    {
      "cell_type": "code",
      "metadata": {
        "id": "XlWfXtWT3ZnR",
        "colab_type": "code",
        "colab": {
          "base_uri": "https://localhost:8080/",
          "height": 255
        },
        "outputId": "3eff2589-e0b7-42d0-d82f-b3713ad8dfbe"
      },
      "source": [
        "def ramificacion_y_poda(COSTES):\n",
        "#Construccion iterativa de soluciones(arbol). En cada etapa asignamos un agente(ramas).\n",
        "#Nodos del grafo  { s:(1,2),CI:3,CS:5  }\n",
        "  #print(COSTES)\n",
        "  DIMENSION = len(COSTES)  \n",
        "  MEJOR_SOLUCION=tuple( i for i in range(len(COSTES)) )\n",
        "  CotaSup = valor(MEJOR_SOLUCION,COSTES)\n",
        "  #print(\"Cota Superior:\", CotaSup)\n",
        "\n",
        "  NODOS=[]\n",
        "  NODOS.append({'s':(), 'ci':CI((),COSTES)    } )\n",
        "\n",
        "  iteracion = 0\n",
        "\n",
        "  while( len(NODOS) > 0):\n",
        "    iteracion +=1\n",
        "\n",
        "    nodo_prometedor = [ min(NODOS, key=lambda x:x['ci']) ][0]['s']\n",
        "    #print(\"Nodo prometedor:\", nodo_prometedor)\n",
        "\n",
        "    #Ramificacion. Se generan los hijos\n",
        "    HIJOS =[ {'s':x['s'], 'ci':CI(x['s'], COSTES)   } for x in crear_hijos(nodo_prometedor, DIMENSION) ]\n",
        "\n",
        "    #Revisamos CI y nos quedamos con la mejor solucion si llegamos a una solucion final\n",
        "    NODO_FINAL = [x for x in HIJOS if len(x['s']) == DIMENSION  ]\n",
        "    if len(NODO_FINAL ) >0: \n",
        "      #print(\"\\n********Soluciones:\",  [x for x in HIJOS if len(x['s']) == DIMENSION  ] )\n",
        "      if NODO_FINAL[0]['ci'] < CotaSup:\n",
        "        CotaSup = NODO_FINAL[0]['ci']\n",
        "        MEJOR_SOLUCION = NODO_FINAL\n",
        " \n",
        "    #Poda\n",
        "    HIJOS = [x for x in HIJOS if x['ci'] < CotaSup   ]\n",
        "\n",
        "    #Añadimos los hijos \n",
        "    NODOS.extend(HIJOS) \n",
        "\n",
        "    #Eliminamos el nodo ramificado\n",
        "    NODOS =  [  x for x in NODOS if x['s'] != nodo_prometedor    ]\n",
        "   \n",
        "    print(\"La solucion final es:\" ,MEJOR_SOLUCION , \" en \" , iteracion , \" iteraciones\" , \" para dimension: \" ,DIMENSION  )\n",
        "      \n",
        "\n",
        "\n",
        "ramificacion_y_poda(COSTES)"
      ],
      "execution_count": 7,
      "outputs": [
        {
          "output_type": "stream",
          "text": [
            "La solucion final es: (0, 1, 2, 3)  en  1  iteraciones  para dimension:  4\n",
            "La solucion final es: (0, 1, 2, 3)  en  2  iteraciones  para dimension:  4\n",
            "La solucion final es: (0, 1, 2, 3)  en  3  iteraciones  para dimension:  4\n",
            "La solucion final es: (0, 1, 2, 3)  en  4  iteraciones  para dimension:  4\n",
            "La solucion final es: (0, 1, 2, 3)  en  5  iteraciones  para dimension:  4\n",
            "La solucion final es: [{'s': (0, 2, 3, 1), 'ci': 61}]  en  6  iteraciones  para dimension:  4\n",
            "La solucion final es: [{'s': (0, 2, 3, 1), 'ci': 61}]  en  7  iteraciones  para dimension:  4\n",
            "La solucion final es: [{'s': (0, 2, 3, 1), 'ci': 61}]  en  8  iteraciones  para dimension:  4\n",
            "La solucion final es: [{'s': (0, 2, 3, 1), 'ci': 61}]  en  9  iteraciones  para dimension:  4\n",
            "La solucion final es: [{'s': (0, 2, 3, 1), 'ci': 61}]  en  10  iteraciones  para dimension:  4\n",
            "La solucion final es: [{'s': (0, 2, 3, 1), 'ci': 61}]  en  11  iteraciones  para dimension:  4\n",
            "La solucion final es: [{'s': (0, 2, 3, 1), 'ci': 61}]  en  12  iteraciones  para dimension:  4\n",
            "La solucion final es: [{'s': (0, 2, 3, 1), 'ci': 61}]  en  13  iteraciones  para dimension:  4\n",
            "La solucion final es: [{'s': (0, 2, 3, 1), 'ci': 61}]  en  14  iteraciones  para dimension:  4\n"
          ],
          "name": "stdout"
        }
      ]
    },
    {
      "cell_type": "markdown",
      "metadata": {
        "id": "gkrMXCWmqpt6",
        "colab_type": "text"
      },
      "source": [
        "# __Método: Fuerza bruta__\n",
        "\n",
        "- Para resolver el problema por fuerza bruta, se deben analizar TODAS las posibiliaddes o combinaciones posibles. En este caso se valora el coste de todas las combinaciones que hay en la tabla de asignación de tareas por cada agente.\n",
        "\n",
        "- La función __fuerza_bruta__ recibe la información de la tabla de COSTES, y calcula la combinación con menor coste posible y devuelve el número de combinaciones posibles.\n",
        "\n",
        "- Gracias a la librería itertools y la función __permutations__, se consiguen todas las posibles combinaciones posibles de tuplas, que permite la tabla de costes.\n"
      ]
    },
    {
      "cell_type": "code",
      "metadata": {
        "id": "K-3IkMNwn4-8",
        "colab_type": "code",
        "colab": {
          "base_uri": "https://localhost:8080/",
          "height": 459
        },
        "outputId": "9aaf9cfd-3561-4e78-adfb-e0d63f988bdc"
      },
      "source": [
        "from itertools import *\n",
        "\n",
        "def fuerza_bruta(COSTES):\n",
        "  mejor_valor = 10e10\n",
        "  mejor_solucion = ()\n",
        "  permutaciones = 0\n",
        "\n",
        "\n",
        "  for s in permutations(range(len(COSTES))):\n",
        "  \n",
        "    #print(el,end='')\n",
        "    print(\"Solucion: \",s,\" --> Coste(s): \",valor(s,COSTES))\n",
        "    permutaciones +=1\n",
        "    valor_tmp = valor(s, COSTES)\n",
        "    if valor_tmp < mejor_valor:\n",
        "      mejor_valor = valor_tmp\n",
        "      mejor_solucion = s\n",
        "  print(\"La mejor solucion es:\", mejor_solucion, \" con valor: \", mejor_valor)\n",
        "  print(\"Numero de operaciones: \", permutaciones)\n",
        "fuerza_bruta(COSTES)"
      ],
      "execution_count": 8,
      "outputs": [
        {
          "output_type": "stream",
          "text": [
            "Solucion:  (0, 1, 2, 3)  --> Coste(s):  73\n",
            "Solucion:  (0, 1, 3, 2)  --> Coste(s):  69\n",
            "Solucion:  (0, 2, 1, 3)  --> Coste(s):  69\n",
            "Solucion:  (0, 2, 3, 1)  --> Coste(s):  61\n",
            "Solucion:  (0, 3, 1, 2)  --> Coste(s):  70\n",
            "Solucion:  (0, 3, 2, 1)  --> Coste(s):  66\n",
            "Solucion:  (1, 0, 2, 3)  --> Coste(s):  73\n",
            "Solucion:  (1, 0, 3, 2)  --> Coste(s):  69\n",
            "Solucion:  (1, 2, 0, 3)  --> Coste(s):  64\n",
            "Solucion:  (1, 2, 3, 0)  --> Coste(s):  65\n",
            "Solucion:  (1, 3, 0, 2)  --> Coste(s):  65\n",
            "Solucion:  (1, 3, 2, 0)  --> Coste(s):  70\n",
            "Solucion:  (2, 0, 1, 3)  --> Coste(s):  77\n",
            "Solucion:  (2, 0, 3, 1)  --> Coste(s):  69\n",
            "Solucion:  (2, 1, 0, 3)  --> Coste(s):  72\n",
            "Solucion:  (2, 1, 3, 0)  --> Coste(s):  73\n",
            "Solucion:  (2, 3, 0, 1)  --> Coste(s):  65\n",
            "Solucion:  (2, 3, 1, 0)  --> Coste(s):  74\n",
            "Solucion:  (3, 0, 1, 2)  --> Coste(s):  91\n",
            "Solucion:  (3, 0, 2, 1)  --> Coste(s):  87\n",
            "Solucion:  (3, 1, 0, 2)  --> Coste(s):  86\n",
            "Solucion:  (3, 1, 2, 0)  --> Coste(s):  91\n",
            "Solucion:  (3, 2, 0, 1)  --> Coste(s):  78\n",
            "Solucion:  (3, 2, 1, 0)  --> Coste(s):  87\n",
            "La mejor solucion es: (0, 2, 3, 1)  con valor:  61\n",
            "Numero de operaciones:  24\n"
          ],
          "name": "stdout"
        }
      ]
    },
    {
      "cell_type": "markdown",
      "metadata": {
        "id": "MilPqhV1-NF8",
        "colab_type": "text"
      },
      "source": [
        "# __Preguntas adicionales:__\n",
        "\n",
        "### __1. ¿Que complejidad tiene el algoritmo por fuerza bruta?__\n",
        "\n",
        "- En el caso de los agentes, __la complejidad por fuerza bruta__ es factorial $O(n) = n!$.\n",
        "- Esto puede verse, ya que a parte de algunas operaciones básicas y algunas asignaciones, lo que hace el for de la función es buscar todas las combinaciones posibles de la matriz de entrada (COSTES), y esto, tiende a ser __n!__\n",
        "\n"
      ]
    },
    {
      "cell_type": "markdown",
      "metadata": {
        "id": "Qm2JrRhrGFfj",
        "colab_type": "text"
      },
      "source": [
        "### __2. Generar matrices con valores aleatorios de mayores dimensiones (5,6,7,…) y ejecutar ambos algoritmos.__\n",
        "\n",
        "- En este caso he probado con varias matrices (A parte de las que se muestran en las siguientes celdas):\n",
        "\n",
        "  - __Resultados__: Por regla general en la \"mayoría\" de las ejecuciones\n",
        "    - En el caso de _ramificación y poda_, quitando alguna excepción, los resultados tienden a:\n",
        "      - Matriz 5x5: Entre 15 y 30 iteraciones , aproximadamente.\n",
        "      - MAtriz 6x6: entre 30-50 iteraciones , aproximadamente.\n",
        "      - Matriz 7x7: quitando excepciones, suele rondar como mínimo en torno a las 90-100 iteraciones\n",
        "      - Matriz 8x8: He encontrado casos que parten desde 100 iteraciones como casos que tienen hasta 500, aproximadamente.\n",
        "\n",
        "    - Caso de _fuerza bruta_: al tener que calcular todas las soluciones posibles, para una misma dimensión, el número de iteraciones serán fijas. Este valor será __n!__. Así mismo:\n",
        "      - En una matriz 5x5 tendremos 120 iteraciones, mientras que una matriz 6x6 = 720 iteraciones. He considerado que con una matriz de 5x5 ya son demasiadas iteraciones (y por eso no mostré más ejemplos para este caso).\n",
        "\n",
        "### __3. ¿A partir de que dimensión el algoritmo por fuerza bruta deja de ser una opción?__ \n",
        "  - Con los ejemplos que muestro a continuación y la información expuesta en este apartado, considero que para una matriz de 5x5 ya empieza a ser costoso y para una matriz de 6x6 inmanejable, son demasiadas posibilidades\n",
        "\n",
        "### __4. ¿Hay algún valor de la dimensión a partir de la cual el algoritmo de ramificación y poda deja de ser una opción válida?__\n",
        "  - Con lo expuesto en este apartado, considero que con dimensión 7 el coste puede ser elevado, y se pueden tener demasiadas combinaciones. Puesot que la solución final, incluso se conoce en muchas iteraciones anteriores, creo que el coste es muy elevado.\n",
        "\n",
        "- __A continuación se muestran algunos de los resultados de aplicar esto a amos métodos__"
      ]
    },
    {
      "cell_type": "code",
      "metadata": {
        "id": "l5JnHjFEvT37",
        "colab_type": "code",
        "colab": {}
      },
      "source": [
        "import numpy as np\n"
      ],
      "execution_count": 0,
      "outputs": []
    },
    {
      "cell_type": "code",
      "metadata": {
        "id": "kS5Zd1UmpdqR",
        "colab_type": "code",
        "colab": {}
      },
      "source": [
        "# Aplico ambos métodos con la nueva matriz 5x5\n",
        "matriz5 = np.random.randint(30, size=(5,5))\n",
        "display(matriz5)\n",
        "print(\"----------- Fuerza Bruta 5x5---------------\")\n",
        "fuerza_bruta(matriz5)\n",
        "print(\"----------- Ramificación y poda 5x5---------------\")\n",
        "ramificacion_y_poda(matriz5)"
      ],
      "execution_count": 0,
      "outputs": []
    },
    {
      "cell_type": "code",
      "metadata": {
        "id": "H0i76iGBGzyn",
        "colab_type": "code",
        "colab": {
          "base_uri": "https://localhost:8080/",
          "height": 544
        },
        "outputId": "9665bbc6-96cf-46be-c4c1-2cbbca14826c"
      },
      "source": [
        "# Aplico ambos métodos con la nueva matriz 6x6 \n",
        "ramificacion_y_poda(np.random.randint(30, size=(6,6)))"
      ],
      "execution_count": 58,
      "outputs": [
        {
          "output_type": "stream",
          "text": [
            "La solucion final es: (0, 1, 2, 3, 4, 5)  en  1  iteraciones  para dimension:  6\n",
            "La solucion final es: (0, 1, 2, 3, 4, 5)  en  2  iteraciones  para dimension:  6\n",
            "La solucion final es: (0, 1, 2, 3, 4, 5)  en  3  iteraciones  para dimension:  6\n",
            "La solucion final es: (0, 1, 2, 3, 4, 5)  en  4  iteraciones  para dimension:  6\n",
            "La solucion final es: (0, 1, 2, 3, 4, 5)  en  5  iteraciones  para dimension:  6\n",
            "La solucion final es: (0, 1, 2, 3, 4, 5)  en  6  iteraciones  para dimension:  6\n",
            "La solucion final es: (0, 1, 2, 3, 4, 5)  en  7  iteraciones  para dimension:  6\n",
            "La solucion final es: (0, 1, 2, 3, 4, 5)  en  8  iteraciones  para dimension:  6\n",
            "La solucion final es: [{'s': (2, 5, 1, 0, 4, 3), 'ci': 26}]  en  9  iteraciones  para dimension:  6\n",
            "La solucion final es: [{'s': (2, 5, 1, 0, 4, 3), 'ci': 26}]  en  10  iteraciones  para dimension:  6\n",
            "La solucion final es: [{'s': (2, 5, 1, 0, 4, 3), 'ci': 26}]  en  11  iteraciones  para dimension:  6\n",
            "La solucion final es: [{'s': (2, 5, 1, 0, 4, 3), 'ci': 26}]  en  12  iteraciones  para dimension:  6\n",
            "La solucion final es: [{'s': (2, 5, 1, 0, 4, 3), 'ci': 26}]  en  13  iteraciones  para dimension:  6\n",
            "La solucion final es: [{'s': (2, 5, 1, 0, 4, 3), 'ci': 26}]  en  14  iteraciones  para dimension:  6\n",
            "La solucion final es: [{'s': (2, 5, 1, 0, 4, 3), 'ci': 26}]  en  15  iteraciones  para dimension:  6\n",
            "La solucion final es: [{'s': (2, 5, 1, 0, 4, 3), 'ci': 26}]  en  16  iteraciones  para dimension:  6\n",
            "La solucion final es: [{'s': (2, 5, 1, 0, 4, 3), 'ci': 26}]  en  17  iteraciones  para dimension:  6\n",
            "La solucion final es: [{'s': (2, 5, 1, 0, 4, 3), 'ci': 26}]  en  18  iteraciones  para dimension:  6\n",
            "La solucion final es: [{'s': (2, 5, 1, 0, 4, 3), 'ci': 26}]  en  19  iteraciones  para dimension:  6\n",
            "La solucion final es: [{'s': (2, 5, 1, 0, 4, 3), 'ci': 26}]  en  20  iteraciones  para dimension:  6\n",
            "La solucion final es: [{'s': (2, 5, 1, 0, 4, 3), 'ci': 26}]  en  21  iteraciones  para dimension:  6\n",
            "La solucion final es: [{'s': (2, 5, 1, 0, 4, 3), 'ci': 26}]  en  22  iteraciones  para dimension:  6\n",
            "La solucion final es: [{'s': (2, 5, 1, 0, 4, 3), 'ci': 26}]  en  23  iteraciones  para dimension:  6\n",
            "La solucion final es: [{'s': (2, 5, 1, 0, 4, 3), 'ci': 26}]  en  24  iteraciones  para dimension:  6\n",
            "La solucion final es: [{'s': (2, 5, 1, 0, 4, 3), 'ci': 26}]  en  25  iteraciones  para dimension:  6\n",
            "La solucion final es: [{'s': (2, 5, 1, 0, 4, 3), 'ci': 26}]  en  26  iteraciones  para dimension:  6\n",
            "La solucion final es: [{'s': (2, 5, 1, 0, 4, 3), 'ci': 26}]  en  27  iteraciones  para dimension:  6\n",
            "La solucion final es: [{'s': (2, 5, 1, 0, 4, 3), 'ci': 26}]  en  28  iteraciones  para dimension:  6\n",
            "La solucion final es: [{'s': (2, 5, 1, 0, 4, 3), 'ci': 26}]  en  29  iteraciones  para dimension:  6\n",
            "La solucion final es: [{'s': (2, 5, 1, 0, 4, 3), 'ci': 26}]  en  30  iteraciones  para dimension:  6\n",
            "La solucion final es: [{'s': (2, 5, 1, 0, 4, 3), 'ci': 26}]  en  31  iteraciones  para dimension:  6\n"
          ],
          "name": "stdout"
        }
      ]
    },
    {
      "cell_type": "code",
      "metadata": {
        "id": "9bKNpTNoLjK5",
        "colab_type": "code",
        "colab": {
          "base_uri": "https://localhost:8080/",
          "height": 1000
        },
        "outputId": "be11be58-af58-4ac1-8661-e97bc12ec4df"
      },
      "source": [
        "ramificacion_y_poda(np.random.randint(30, size=(7,7)))"
      ],
      "execution_count": 99,
      "outputs": [
        {
          "output_type": "stream",
          "text": [
            "La solucion final es: (0, 1, 2, 3, 4, 5, 6)  en  1  iteraciones  para dimension:  7\n",
            "La solucion final es: (0, 1, 2, 3, 4, 5, 6)  en  2  iteraciones  para dimension:  7\n",
            "La solucion final es: (0, 1, 2, 3, 4, 5, 6)  en  3  iteraciones  para dimension:  7\n",
            "La solucion final es: (0, 1, 2, 3, 4, 5, 6)  en  4  iteraciones  para dimension:  7\n",
            "La solucion final es: (0, 1, 2, 3, 4, 5, 6)  en  5  iteraciones  para dimension:  7\n",
            "La solucion final es: (0, 1, 2, 3, 4, 5, 6)  en  6  iteraciones  para dimension:  7\n",
            "La solucion final es: (0, 1, 2, 3, 4, 5, 6)  en  7  iteraciones  para dimension:  7\n",
            "La solucion final es: (0, 1, 2, 3, 4, 5, 6)  en  8  iteraciones  para dimension:  7\n",
            "La solucion final es: (0, 1, 2, 3, 4, 5, 6)  en  9  iteraciones  para dimension:  7\n",
            "La solucion final es: (0, 1, 2, 3, 4, 5, 6)  en  10  iteraciones  para dimension:  7\n",
            "La solucion final es: (0, 1, 2, 3, 4, 5, 6)  en  11  iteraciones  para dimension:  7\n",
            "La solucion final es: (0, 1, 2, 3, 4, 5, 6)  en  12  iteraciones  para dimension:  7\n",
            "La solucion final es: (0, 1, 2, 3, 4, 5, 6)  en  13  iteraciones  para dimension:  7\n",
            "La solucion final es: (0, 1, 2, 3, 4, 5, 6)  en  14  iteraciones  para dimension:  7\n",
            "La solucion final es: (0, 1, 2, 3, 4, 5, 6)  en  15  iteraciones  para dimension:  7\n",
            "La solucion final es: (0, 1, 2, 3, 4, 5, 6)  en  16  iteraciones  para dimension:  7\n",
            "La solucion final es: (0, 1, 2, 3, 4, 5, 6)  en  17  iteraciones  para dimension:  7\n",
            "La solucion final es: (0, 1, 2, 3, 4, 5, 6)  en  18  iteraciones  para dimension:  7\n",
            "La solucion final es: (0, 1, 2, 3, 4, 5, 6)  en  19  iteraciones  para dimension:  7\n",
            "La solucion final es: (0, 1, 2, 3, 4, 5, 6)  en  20  iteraciones  para dimension:  7\n",
            "La solucion final es: [{'s': (4, 6, 1, 3, 2, 5, 0), 'ci': 34}]  en  21  iteraciones  para dimension:  7\n",
            "La solucion final es: [{'s': (4, 6, 1, 3, 2, 5, 0), 'ci': 34}]  en  22  iteraciones  para dimension:  7\n",
            "La solucion final es: [{'s': (4, 6, 1, 3, 2, 5, 0), 'ci': 34}]  en  23  iteraciones  para dimension:  7\n",
            "La solucion final es: [{'s': (4, 6, 1, 3, 2, 5, 0), 'ci': 34}]  en  24  iteraciones  para dimension:  7\n",
            "La solucion final es: [{'s': (4, 6, 1, 3, 2, 5, 0), 'ci': 34}]  en  25  iteraciones  para dimension:  7\n",
            "La solucion final es: [{'s': (4, 6, 1, 3, 2, 5, 0), 'ci': 34}]  en  26  iteraciones  para dimension:  7\n",
            "La solucion final es: [{'s': (4, 6, 1, 3, 2, 5, 0), 'ci': 34}]  en  27  iteraciones  para dimension:  7\n",
            "La solucion final es: [{'s': (4, 6, 1, 3, 2, 5, 0), 'ci': 34}]  en  28  iteraciones  para dimension:  7\n",
            "La solucion final es: [{'s': (4, 6, 1, 3, 2, 5, 0), 'ci': 34}]  en  29  iteraciones  para dimension:  7\n",
            "La solucion final es: [{'s': (4, 6, 1, 3, 2, 5, 0), 'ci': 34}]  en  30  iteraciones  para dimension:  7\n",
            "La solucion final es: [{'s': (4, 6, 1, 3, 2, 5, 0), 'ci': 34}]  en  31  iteraciones  para dimension:  7\n",
            "La solucion final es: [{'s': (4, 6, 1, 3, 2, 5, 0), 'ci': 34}]  en  32  iteraciones  para dimension:  7\n",
            "La solucion final es: [{'s': (4, 6, 1, 3, 2, 5, 0), 'ci': 34}]  en  33  iteraciones  para dimension:  7\n",
            "La solucion final es: [{'s': (4, 6, 1, 3, 2, 5, 0), 'ci': 34}]  en  34  iteraciones  para dimension:  7\n",
            "La solucion final es: [{'s': (4, 6, 1, 3, 2, 5, 0), 'ci': 34}]  en  35  iteraciones  para dimension:  7\n",
            "La solucion final es: [{'s': (4, 6, 1, 3, 2, 5, 0), 'ci': 34}]  en  36  iteraciones  para dimension:  7\n",
            "La solucion final es: [{'s': (4, 6, 1, 3, 2, 5, 0), 'ci': 34}]  en  37  iteraciones  para dimension:  7\n",
            "La solucion final es: [{'s': (4, 6, 1, 3, 2, 5, 0), 'ci': 34}]  en  38  iteraciones  para dimension:  7\n",
            "La solucion final es: [{'s': (4, 6, 1, 3, 2, 5, 0), 'ci': 34}]  en  39  iteraciones  para dimension:  7\n",
            "La solucion final es: [{'s': (4, 6, 1, 3, 2, 5, 0), 'ci': 34}]  en  40  iteraciones  para dimension:  7\n",
            "La solucion final es: [{'s': (4, 6, 1, 3, 2, 5, 0), 'ci': 34}]  en  41  iteraciones  para dimension:  7\n",
            "La solucion final es: [{'s': (4, 6, 1, 3, 2, 5, 0), 'ci': 34}]  en  42  iteraciones  para dimension:  7\n",
            "La solucion final es: [{'s': (4, 6, 1, 3, 2, 5, 0), 'ci': 34}]  en  43  iteraciones  para dimension:  7\n",
            "La solucion final es: [{'s': (4, 6, 1, 3, 2, 5, 0), 'ci': 34}]  en  44  iteraciones  para dimension:  7\n",
            "La solucion final es: [{'s': (4, 6, 1, 3, 2, 5, 0), 'ci': 34}]  en  45  iteraciones  para dimension:  7\n",
            "La solucion final es: [{'s': (4, 6, 1, 3, 2, 5, 0), 'ci': 34}]  en  46  iteraciones  para dimension:  7\n",
            "La solucion final es: [{'s': (4, 6, 1, 3, 2, 5, 0), 'ci': 34}]  en  47  iteraciones  para dimension:  7\n",
            "La solucion final es: [{'s': (4, 6, 1, 3, 2, 5, 0), 'ci': 34}]  en  48  iteraciones  para dimension:  7\n",
            "La solucion final es: [{'s': (4, 6, 1, 3, 2, 5, 0), 'ci': 34}]  en  49  iteraciones  para dimension:  7\n",
            "La solucion final es: [{'s': (4, 6, 1, 3, 2, 5, 0), 'ci': 34}]  en  50  iteraciones  para dimension:  7\n",
            "La solucion final es: [{'s': (4, 6, 1, 3, 2, 5, 0), 'ci': 34}]  en  51  iteraciones  para dimension:  7\n",
            "La solucion final es: [{'s': (4, 6, 1, 3, 2, 5, 0), 'ci': 34}]  en  52  iteraciones  para dimension:  7\n",
            "La solucion final es: [{'s': (4, 6, 1, 3, 2, 5, 0), 'ci': 34}]  en  53  iteraciones  para dimension:  7\n",
            "La solucion final es: [{'s': (4, 6, 1, 3, 2, 5, 0), 'ci': 34}]  en  54  iteraciones  para dimension:  7\n",
            "La solucion final es: [{'s': (4, 6, 1, 3, 2, 5, 0), 'ci': 34}]  en  55  iteraciones  para dimension:  7\n",
            "La solucion final es: [{'s': (4, 6, 1, 3, 2, 5, 0), 'ci': 34}]  en  56  iteraciones  para dimension:  7\n",
            "La solucion final es: [{'s': (4, 6, 1, 3, 2, 5, 0), 'ci': 34}]  en  57  iteraciones  para dimension:  7\n",
            "La solucion final es: [{'s': (4, 6, 1, 3, 2, 5, 0), 'ci': 34}]  en  58  iteraciones  para dimension:  7\n",
            "La solucion final es: [{'s': (4, 6, 1, 3, 2, 5, 0), 'ci': 34}]  en  59  iteraciones  para dimension:  7\n",
            "La solucion final es: [{'s': (4, 6, 1, 3, 2, 5, 0), 'ci': 34}]  en  60  iteraciones  para dimension:  7\n",
            "La solucion final es: [{'s': (4, 6, 1, 3, 2, 5, 0), 'ci': 34}]  en  61  iteraciones  para dimension:  7\n",
            "La solucion final es: [{'s': (4, 6, 1, 3, 2, 5, 0), 'ci': 34}]  en  62  iteraciones  para dimension:  7\n",
            "La solucion final es: [{'s': (4, 6, 1, 3, 2, 5, 0), 'ci': 34}]  en  63  iteraciones  para dimension:  7\n",
            "La solucion final es: [{'s': (4, 6, 1, 3, 2, 5, 0), 'ci': 34}]  en  64  iteraciones  para dimension:  7\n",
            "La solucion final es: [{'s': (4, 6, 1, 3, 2, 5, 0), 'ci': 34}]  en  65  iteraciones  para dimension:  7\n",
            "La solucion final es: [{'s': (4, 6, 1, 3, 2, 5, 0), 'ci': 34}]  en  66  iteraciones  para dimension:  7\n",
            "La solucion final es: [{'s': (4, 6, 1, 3, 2, 5, 0), 'ci': 34}]  en  67  iteraciones  para dimension:  7\n",
            "La solucion final es: [{'s': (4, 6, 1, 3, 2, 5, 0), 'ci': 34}]  en  68  iteraciones  para dimension:  7\n",
            "La solucion final es: [{'s': (4, 6, 1, 3, 2, 5, 0), 'ci': 34}]  en  69  iteraciones  para dimension:  7\n",
            "La solucion final es: [{'s': (4, 6, 1, 3, 2, 5, 0), 'ci': 34}]  en  70  iteraciones  para dimension:  7\n",
            "La solucion final es: [{'s': (4, 6, 1, 3, 2, 5, 0), 'ci': 34}]  en  71  iteraciones  para dimension:  7\n",
            "La solucion final es: [{'s': (4, 6, 1, 3, 2, 5, 0), 'ci': 34}]  en  72  iteraciones  para dimension:  7\n",
            "La solucion final es: [{'s': (4, 6, 1, 3, 2, 5, 0), 'ci': 34}]  en  73  iteraciones  para dimension:  7\n",
            "La solucion final es: [{'s': (4, 6, 1, 3, 2, 5, 0), 'ci': 34}]  en  74  iteraciones  para dimension:  7\n",
            "La solucion final es: [{'s': (4, 6, 1, 3, 2, 5, 0), 'ci': 34}]  en  75  iteraciones  para dimension:  7\n",
            "La solucion final es: [{'s': (4, 6, 1, 3, 2, 5, 0), 'ci': 34}]  en  76  iteraciones  para dimension:  7\n",
            "La solucion final es: [{'s': (4, 6, 1, 3, 2, 5, 0), 'ci': 34}]  en  77  iteraciones  para dimension:  7\n",
            "La solucion final es: [{'s': (4, 6, 1, 3, 2, 5, 0), 'ci': 34}]  en  78  iteraciones  para dimension:  7\n",
            "La solucion final es: [{'s': (4, 6, 1, 3, 2, 5, 0), 'ci': 34}]  en  79  iteraciones  para dimension:  7\n",
            "La solucion final es: [{'s': (4, 6, 1, 3, 2, 5, 0), 'ci': 34}]  en  80  iteraciones  para dimension:  7\n",
            "La solucion final es: [{'s': (4, 6, 1, 3, 2, 5, 0), 'ci': 34}]  en  81  iteraciones  para dimension:  7\n",
            "La solucion final es: [{'s': (4, 6, 1, 3, 2, 5, 0), 'ci': 34}]  en  82  iteraciones  para dimension:  7\n",
            "La solucion final es: [{'s': (4, 6, 1, 3, 2, 5, 0), 'ci': 34}]  en  83  iteraciones  para dimension:  7\n",
            "La solucion final es: [{'s': (4, 6, 1, 3, 2, 5, 0), 'ci': 34}]  en  84  iteraciones  para dimension:  7\n",
            "La solucion final es: [{'s': (4, 6, 1, 3, 2, 5, 0), 'ci': 34}]  en  85  iteraciones  para dimension:  7\n",
            "La solucion final es: [{'s': (4, 6, 1, 3, 2, 5, 0), 'ci': 34}]  en  86  iteraciones  para dimension:  7\n"
          ],
          "name": "stdout"
        }
      ]
    },
    {
      "cell_type": "code",
      "metadata": {
        "id": "1irXREOxJmho",
        "colab_type": "code",
        "colab": {
          "base_uri": "https://localhost:8080/",
          "height": 1000
        },
        "outputId": "e4eeff4d-1a98-4a15-9c30-5184f5eab709"
      },
      "source": [
        "\n",
        "ramificacion_y_poda(np.random.randint(30, size=(8,8)))"
      ],
      "execution_count": 97,
      "outputs": [
        {
          "output_type": "stream",
          "text": [
            "La solucion final es: (0, 1, 2, 3, 4, 5, 6, 7)  en  1  iteraciones  para dimension:  8\n",
            "La solucion final es: (0, 1, 2, 3, 4, 5, 6, 7)  en  2  iteraciones  para dimension:  8\n",
            "La solucion final es: (0, 1, 2, 3, 4, 5, 6, 7)  en  3  iteraciones  para dimension:  8\n",
            "La solucion final es: (0, 1, 2, 3, 4, 5, 6, 7)  en  4  iteraciones  para dimension:  8\n",
            "La solucion final es: (0, 1, 2, 3, 4, 5, 6, 7)  en  5  iteraciones  para dimension:  8\n",
            "La solucion final es: (0, 1, 2, 3, 4, 5, 6, 7)  en  6  iteraciones  para dimension:  8\n",
            "La solucion final es: (0, 1, 2, 3, 4, 5, 6, 7)  en  7  iteraciones  para dimension:  8\n",
            "La solucion final es: (0, 1, 2, 3, 4, 5, 6, 7)  en  8  iteraciones  para dimension:  8\n",
            "La solucion final es: (0, 1, 2, 3, 4, 5, 6, 7)  en  9  iteraciones  para dimension:  8\n",
            "La solucion final es: (0, 1, 2, 3, 4, 5, 6, 7)  en  10  iteraciones  para dimension:  8\n",
            "La solucion final es: (0, 1, 2, 3, 4, 5, 6, 7)  en  11  iteraciones  para dimension:  8\n",
            "La solucion final es: (0, 1, 2, 3, 4, 5, 6, 7)  en  12  iteraciones  para dimension:  8\n",
            "La solucion final es: (0, 1, 2, 3, 4, 5, 6, 7)  en  13  iteraciones  para dimension:  8\n",
            "La solucion final es: (0, 1, 2, 3, 4, 5, 6, 7)  en  14  iteraciones  para dimension:  8\n",
            "La solucion final es: (0, 1, 2, 3, 4, 5, 6, 7)  en  15  iteraciones  para dimension:  8\n",
            "La solucion final es: (0, 1, 2, 3, 4, 5, 6, 7)  en  16  iteraciones  para dimension:  8\n",
            "La solucion final es: (0, 1, 2, 3, 4, 5, 6, 7)  en  17  iteraciones  para dimension:  8\n",
            "La solucion final es: (0, 1, 2, 3, 4, 5, 6, 7)  en  18  iteraciones  para dimension:  8\n",
            "La solucion final es: (0, 1, 2, 3, 4, 5, 6, 7)  en  19  iteraciones  para dimension:  8\n",
            "La solucion final es: (0, 1, 2, 3, 4, 5, 6, 7)  en  20  iteraciones  para dimension:  8\n",
            "La solucion final es: (0, 1, 2, 3, 4, 5, 6, 7)  en  21  iteraciones  para dimension:  8\n",
            "La solucion final es: (0, 1, 2, 3, 4, 5, 6, 7)  en  22  iteraciones  para dimension:  8\n",
            "La solucion final es: [{'s': (7, 5, 2, 0, 4, 6, 1, 3), 'ci': 23}]  en  23  iteraciones  para dimension:  8\n",
            "La solucion final es: [{'s': (7, 5, 2, 0, 4, 6, 1, 3), 'ci': 23}]  en  24  iteraciones  para dimension:  8\n",
            "La solucion final es: [{'s': (7, 5, 2, 0, 4, 6, 1, 3), 'ci': 23}]  en  25  iteraciones  para dimension:  8\n",
            "La solucion final es: [{'s': (7, 5, 2, 0, 4, 6, 1, 3), 'ci': 23}]  en  26  iteraciones  para dimension:  8\n",
            "La solucion final es: [{'s': (7, 5, 2, 0, 4, 6, 1, 3), 'ci': 23}]  en  27  iteraciones  para dimension:  8\n",
            "La solucion final es: [{'s': (7, 5, 2, 0, 4, 6, 1, 3), 'ci': 23}]  en  28  iteraciones  para dimension:  8\n",
            "La solucion final es: [{'s': (7, 5, 2, 0, 4, 6, 1, 3), 'ci': 23}]  en  29  iteraciones  para dimension:  8\n",
            "La solucion final es: [{'s': (7, 5, 2, 0, 4, 6, 1, 3), 'ci': 23}]  en  30  iteraciones  para dimension:  8\n",
            "La solucion final es: [{'s': (7, 5, 2, 0, 4, 6, 1, 3), 'ci': 23}]  en  31  iteraciones  para dimension:  8\n",
            "La solucion final es: [{'s': (7, 5, 2, 0, 4, 6, 1, 3), 'ci': 23}]  en  32  iteraciones  para dimension:  8\n",
            "La solucion final es: [{'s': (7, 5, 2, 0, 4, 6, 1, 3), 'ci': 23}]  en  33  iteraciones  para dimension:  8\n",
            "La solucion final es: [{'s': (7, 5, 2, 0, 4, 6, 1, 3), 'ci': 23}]  en  34  iteraciones  para dimension:  8\n",
            "La solucion final es: [{'s': (7, 5, 2, 0, 4, 6, 1, 3), 'ci': 23}]  en  35  iteraciones  para dimension:  8\n",
            "La solucion final es: [{'s': (7, 5, 2, 0, 4, 6, 1, 3), 'ci': 23}]  en  36  iteraciones  para dimension:  8\n",
            "La solucion final es: [{'s': (7, 5, 2, 0, 4, 6, 1, 3), 'ci': 23}]  en  37  iteraciones  para dimension:  8\n",
            "La solucion final es: [{'s': (7, 5, 2, 0, 4, 6, 1, 3), 'ci': 23}]  en  38  iteraciones  para dimension:  8\n",
            "La solucion final es: [{'s': (7, 5, 2, 0, 4, 6, 1, 3), 'ci': 23}]  en  39  iteraciones  para dimension:  8\n",
            "La solucion final es: [{'s': (7, 5, 2, 0, 4, 6, 1, 3), 'ci': 23}]  en  40  iteraciones  para dimension:  8\n",
            "La solucion final es: [{'s': (7, 5, 2, 0, 4, 6, 1, 3), 'ci': 23}]  en  41  iteraciones  para dimension:  8\n",
            "La solucion final es: [{'s': (7, 5, 2, 0, 4, 6, 1, 3), 'ci': 23}]  en  42  iteraciones  para dimension:  8\n",
            "La solucion final es: [{'s': (7, 5, 2, 0, 4, 6, 1, 3), 'ci': 23}]  en  43  iteraciones  para dimension:  8\n",
            "La solucion final es: [{'s': (7, 5, 2, 0, 4, 6, 1, 3), 'ci': 23}]  en  44  iteraciones  para dimension:  8\n",
            "La solucion final es: [{'s': (7, 5, 2, 0, 4, 6, 1, 3), 'ci': 23}]  en  45  iteraciones  para dimension:  8\n",
            "La solucion final es: [{'s': (7, 5, 2, 0, 4, 6, 1, 3), 'ci': 23}]  en  46  iteraciones  para dimension:  8\n",
            "La solucion final es: [{'s': (7, 5, 2, 0, 4, 6, 1, 3), 'ci': 23}]  en  47  iteraciones  para dimension:  8\n",
            "La solucion final es: [{'s': (7, 5, 2, 0, 4, 6, 1, 3), 'ci': 23}]  en  48  iteraciones  para dimension:  8\n",
            "La solucion final es: [{'s': (7, 5, 2, 0, 4, 6, 1, 3), 'ci': 23}]  en  49  iteraciones  para dimension:  8\n",
            "La solucion final es: [{'s': (7, 5, 2, 0, 4, 6, 1, 3), 'ci': 23}]  en  50  iteraciones  para dimension:  8\n",
            "La solucion final es: [{'s': (7, 5, 2, 0, 4, 6, 1, 3), 'ci': 23}]  en  51  iteraciones  para dimension:  8\n",
            "La solucion final es: [{'s': (7, 5, 2, 0, 4, 6, 1, 3), 'ci': 23}]  en  52  iteraciones  para dimension:  8\n",
            "La solucion final es: [{'s': (7, 5, 2, 0, 4, 6, 1, 3), 'ci': 23}]  en  53  iteraciones  para dimension:  8\n",
            "La solucion final es: [{'s': (7, 5, 2, 0, 4, 6, 1, 3), 'ci': 23}]  en  54  iteraciones  para dimension:  8\n",
            "La solucion final es: [{'s': (7, 5, 2, 0, 4, 6, 1, 3), 'ci': 23}]  en  55  iteraciones  para dimension:  8\n",
            "La solucion final es: [{'s': (7, 5, 2, 0, 4, 6, 1, 3), 'ci': 23}]  en  56  iteraciones  para dimension:  8\n",
            "La solucion final es: [{'s': (7, 5, 2, 0, 4, 6, 1, 3), 'ci': 23}]  en  57  iteraciones  para dimension:  8\n",
            "La solucion final es: [{'s': (7, 5, 2, 0, 4, 6, 1, 3), 'ci': 23}]  en  58  iteraciones  para dimension:  8\n",
            "La solucion final es: [{'s': (7, 5, 2, 0, 4, 6, 1, 3), 'ci': 23}]  en  59  iteraciones  para dimension:  8\n",
            "La solucion final es: [{'s': (7, 5, 2, 0, 4, 6, 1, 3), 'ci': 23}]  en  60  iteraciones  para dimension:  8\n",
            "La solucion final es: [{'s': (7, 5, 2, 0, 4, 6, 1, 3), 'ci': 23}]  en  61  iteraciones  para dimension:  8\n",
            "La solucion final es: [{'s': (7, 5, 2, 0, 4, 6, 1, 3), 'ci': 23}]  en  62  iteraciones  para dimension:  8\n",
            "La solucion final es: [{'s': (7, 5, 2, 0, 4, 6, 1, 3), 'ci': 23}]  en  63  iteraciones  para dimension:  8\n",
            "La solucion final es: [{'s': (7, 5, 2, 0, 4, 6, 1, 3), 'ci': 23}]  en  64  iteraciones  para dimension:  8\n",
            "La solucion final es: [{'s': (7, 5, 2, 0, 4, 6, 1, 3), 'ci': 23}]  en  65  iteraciones  para dimension:  8\n",
            "La solucion final es: [{'s': (7, 5, 2, 0, 4, 6, 1, 3), 'ci': 23}]  en  66  iteraciones  para dimension:  8\n",
            "La solucion final es: [{'s': (7, 5, 2, 0, 4, 6, 1, 3), 'ci': 23}]  en  67  iteraciones  para dimension:  8\n",
            "La solucion final es: [{'s': (7, 5, 2, 0, 4, 6, 1, 3), 'ci': 23}]  en  68  iteraciones  para dimension:  8\n",
            "La solucion final es: [{'s': (7, 5, 2, 0, 4, 6, 1, 3), 'ci': 23}]  en  69  iteraciones  para dimension:  8\n",
            "La solucion final es: [{'s': (7, 5, 2, 0, 4, 6, 1, 3), 'ci': 23}]  en  70  iteraciones  para dimension:  8\n",
            "La solucion final es: [{'s': (7, 5, 2, 0, 4, 6, 1, 3), 'ci': 23}]  en  71  iteraciones  para dimension:  8\n",
            "La solucion final es: [{'s': (7, 5, 2, 0, 4, 6, 1, 3), 'ci': 23}]  en  72  iteraciones  para dimension:  8\n",
            "La solucion final es: [{'s': (7, 5, 2, 0, 4, 6, 1, 3), 'ci': 23}]  en  73  iteraciones  para dimension:  8\n",
            "La solucion final es: [{'s': (7, 5, 2, 0, 4, 6, 1, 3), 'ci': 23}]  en  74  iteraciones  para dimension:  8\n",
            "La solucion final es: [{'s': (7, 5, 2, 0, 4, 6, 1, 3), 'ci': 23}]  en  75  iteraciones  para dimension:  8\n",
            "La solucion final es: [{'s': (7, 5, 2, 0, 4, 6, 1, 3), 'ci': 23}]  en  76  iteraciones  para dimension:  8\n",
            "La solucion final es: [{'s': (7, 5, 2, 0, 4, 6, 1, 3), 'ci': 23}]  en  77  iteraciones  para dimension:  8\n",
            "La solucion final es: [{'s': (7, 5, 2, 0, 4, 6, 1, 3), 'ci': 23}]  en  78  iteraciones  para dimension:  8\n",
            "La solucion final es: [{'s': (7, 5, 2, 0, 4, 6, 1, 3), 'ci': 23}]  en  79  iteraciones  para dimension:  8\n",
            "La solucion final es: [{'s': (7, 5, 2, 0, 4, 6, 1, 3), 'ci': 23}]  en  80  iteraciones  para dimension:  8\n",
            "La solucion final es: [{'s': (7, 5, 2, 0, 4, 6, 1, 3), 'ci': 23}]  en  81  iteraciones  para dimension:  8\n",
            "La solucion final es: [{'s': (7, 5, 2, 0, 4, 6, 1, 3), 'ci': 23}]  en  82  iteraciones  para dimension:  8\n",
            "La solucion final es: [{'s': (7, 5, 2, 0, 4, 6, 1, 3), 'ci': 23}]  en  83  iteraciones  para dimension:  8\n",
            "La solucion final es: [{'s': (7, 5, 2, 0, 4, 6, 1, 3), 'ci': 23}]  en  84  iteraciones  para dimension:  8\n",
            "La solucion final es: [{'s': (7, 5, 2, 0, 4, 6, 1, 3), 'ci': 23}]  en  85  iteraciones  para dimension:  8\n",
            "La solucion final es: [{'s': (7, 5, 2, 0, 4, 6, 1, 3), 'ci': 23}]  en  86  iteraciones  para dimension:  8\n",
            "La solucion final es: [{'s': (7, 5, 2, 0, 4, 6, 1, 3), 'ci': 23}]  en  87  iteraciones  para dimension:  8\n",
            "La solucion final es: [{'s': (7, 5, 2, 0, 4, 6, 1, 3), 'ci': 23}]  en  88  iteraciones  para dimension:  8\n",
            "La solucion final es: [{'s': (7, 5, 2, 0, 4, 6, 1, 3), 'ci': 23}]  en  89  iteraciones  para dimension:  8\n",
            "La solucion final es: [{'s': (7, 5, 2, 0, 4, 6, 1, 3), 'ci': 23}]  en  90  iteraciones  para dimension:  8\n",
            "La solucion final es: [{'s': (7, 5, 2, 0, 4, 6, 1, 3), 'ci': 23}]  en  91  iteraciones  para dimension:  8\n",
            "La solucion final es: [{'s': (7, 5, 2, 0, 4, 6, 1, 3), 'ci': 23}]  en  92  iteraciones  para dimension:  8\n",
            "La solucion final es: [{'s': (7, 5, 2, 0, 4, 6, 1, 3), 'ci': 23}]  en  93  iteraciones  para dimension:  8\n",
            "La solucion final es: [{'s': (7, 5, 2, 0, 4, 6, 1, 3), 'ci': 23}]  en  94  iteraciones  para dimension:  8\n",
            "La solucion final es: [{'s': (7, 5, 2, 0, 4, 6, 1, 3), 'ci': 23}]  en  95  iteraciones  para dimension:  8\n",
            "La solucion final es: [{'s': (7, 5, 2, 0, 4, 6, 1, 3), 'ci': 23}]  en  96  iteraciones  para dimension:  8\n",
            "La solucion final es: [{'s': (7, 5, 2, 0, 4, 6, 1, 3), 'ci': 23}]  en  97  iteraciones  para dimension:  8\n",
            "La solucion final es: [{'s': (7, 5, 2, 0, 4, 6, 1, 3), 'ci': 23}]  en  98  iteraciones  para dimension:  8\n",
            "La solucion final es: [{'s': (7, 5, 2, 0, 4, 6, 1, 3), 'ci': 23}]  en  99  iteraciones  para dimension:  8\n",
            "La solucion final es: [{'s': (7, 5, 2, 0, 4, 6, 1, 3), 'ci': 23}]  en  100  iteraciones  para dimension:  8\n",
            "La solucion final es: [{'s': (7, 5, 2, 0, 4, 6, 1, 3), 'ci': 23}]  en  101  iteraciones  para dimension:  8\n",
            "La solucion final es: [{'s': (7, 5, 2, 0, 4, 6, 1, 3), 'ci': 23}]  en  102  iteraciones  para dimension:  8\n",
            "La solucion final es: [{'s': (7, 5, 2, 0, 4, 6, 1, 3), 'ci': 23}]  en  103  iteraciones  para dimension:  8\n",
            "La solucion final es: [{'s': (7, 5, 2, 0, 4, 6, 1, 3), 'ci': 23}]  en  104  iteraciones  para dimension:  8\n",
            "La solucion final es: [{'s': (7, 5, 2, 0, 4, 6, 1, 3), 'ci': 23}]  en  105  iteraciones  para dimension:  8\n",
            "La solucion final es: [{'s': (7, 5, 2, 0, 4, 6, 1, 3), 'ci': 23}]  en  106  iteraciones  para dimension:  8\n",
            "La solucion final es: [{'s': (7, 5, 2, 0, 4, 6, 1, 3), 'ci': 23}]  en  107  iteraciones  para dimension:  8\n",
            "La solucion final es: [{'s': (7, 5, 2, 0, 4, 6, 1, 3), 'ci': 23}]  en  108  iteraciones  para dimension:  8\n",
            "La solucion final es: [{'s': (7, 5, 2, 0, 4, 6, 1, 3), 'ci': 23}]  en  109  iteraciones  para dimension:  8\n",
            "La solucion final es: [{'s': (7, 5, 2, 0, 4, 6, 1, 3), 'ci': 23}]  en  110  iteraciones  para dimension:  8\n",
            "La solucion final es: [{'s': (7, 5, 2, 0, 4, 6, 1, 3), 'ci': 23}]  en  111  iteraciones  para dimension:  8\n",
            "La solucion final es: [{'s': (7, 5, 2, 0, 4, 6, 1, 3), 'ci': 23}]  en  112  iteraciones  para dimension:  8\n"
          ],
          "name": "stdout"
        }
      ]
    },
    {
      "cell_type": "code",
      "metadata": {
        "id": "Lk1tSiNsKvIP",
        "colab_type": "code",
        "colab": {}
      },
      "source": [
        ""
      ],
      "execution_count": 0,
      "outputs": []
    }
  ]
}