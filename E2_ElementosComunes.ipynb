{
  "nbformat": 4,
  "nbformat_minor": 0,
  "metadata": {
    "colab": {
      "name": "P2_ElementosComunes.ipynb",
      "provenance": [],
      "authorship_tag": "ABX9TyNXm/4tDYfvW+K6lBldlJBc",
      "include_colab_link": true
    },
    "kernelspec": {
      "name": "python3",
      "display_name": "Python 3"
    }
  },
  "cells": [
    {
      "cell_type": "markdown",
      "metadata": {
        "id": "view-in-github",
        "colab_type": "text"
      },
      "source": [
        "<a href=\"https://colab.research.google.com/github/patgarmarq/03MAIR---Algoritmos-de-Optimizacion---2019/blob/Ejemplos/E2_ElementosComunes.ipynb\" target=\"_parent\"><img src=\"https://colab.research.google.com/assets/colab-badge.svg\" alt=\"Open In Colab\"/></a>"
      ]
    },
    {
      "cell_type": "markdown",
      "metadata": {
        "id": "7Rw1ZAurDZop",
        "colab_type": "text"
      },
      "source": [
        "### Programa 2 Algoritmo que encuentre los comunes a una lista\n"
      ]
    },
    {
      "cell_type": "code",
      "metadata": {
        "id": "2TV8OJd-DgEe",
        "colab_type": "code",
        "colab": {
          "base_uri": "https://localhost:8080/",
          "height": 34
        },
        "outputId": "22d5cca3-3e9f-47dc-a4f4-52bbf0251177"
      },
      "source": [
        "A = [1,2,6,7,12,13,15]\n",
        "B = [2,3,4,7,13]\n",
        "comun = []\n",
        "for x in B:\n",
        "  if x in A:\n",
        "    comun.append(x)\n",
        "print(comun)"
      ],
      "execution_count": 4,
      "outputs": [
        {
          "output_type": "stream",
          "text": [
            "[2, 7, 13]\n"
          ],
          "name": "stdout"
        }
      ]
    },
    {
      "cell_type": "code",
      "metadata": {
        "id": "gbewx84_DxdY",
        "colab_type": "code",
        "colab": {}
      },
      "source": [
        ""
      ],
      "execution_count": 0,
      "outputs": []
    }
  ]
}