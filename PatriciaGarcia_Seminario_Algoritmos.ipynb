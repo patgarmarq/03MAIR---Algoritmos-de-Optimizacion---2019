{
  "nbformat": 4,
  "nbformat_minor": 0,
  "metadata": {
    "colab": {
      "name": "PatriciaGarcia_Seminario_Algoritmos.ipynb",
      "provenance": [],
      "collapsed_sections": [],
      "include_colab_link": true
    },
    "kernelspec": {
      "name": "python3",
      "display_name": "Python 3"
    }
  },
  "cells": [
    {
      "cell_type": "markdown",
      "metadata": {
        "id": "view-in-github",
        "colab_type": "text"
      },
      "source": [
        "<a href=\"https://colab.research.google.com/github/patgarmarq/03MAIR---Algoritmos-de-Optimizacion---2019/blob/master/PatriciaGarcia_Seminario_Algoritmos.ipynb\" target=\"_parent\"><img src=\"https://colab.research.google.com/assets/colab-badge.svg\" alt=\"Open In Colab\"/></a>"
      ]
    },
    {
      "cell_type": "markdown",
      "metadata": {
        "id": "hVbXYX-RfPWh",
        "colab_type": "text"
      },
      "source": [
        "# Algoritmos de optimización - Seminario<br>\n",
        "Nombre y Apellidos: Patricia Garcia Marquina   <br>\n",
        "Url (en Master): https://github.com/patgarmarq/03MAIR---Algoritmos-de-Optimizacion---2019<br>\n",
        "Link: https://drive.google.com/file/d/1YzwkvxodA2kgpyjwuJR5qLmMQm1obHLT/view?usp=sharing <br>\n",
        "Problema:\n",
        "> 3. Combinar cifras y operaciones\n",
        "\n",
        "__Descripción del problema:__\n",
        "\n",
        "El problema consiste en analizar el siguiente problema y diseñar un algoritmo que lo resuelva.\n",
        "- Disponemos de las 9 cifras del 1 al 9 (excluimos el cero) y de los 4 signos básicos de las operaciones fundamentales: suma(+), resta(-), multiplicación(*) y división(/).\n",
        "- Debemos combinarlos alternativamente sin repetir ninguno de ellos para obtener una cantidad dada. Un ejemplo sería para obtener el 4:\n",
        "              4+2-6/3*1 = 4\n",
        "\n",
        "- Debe analizarse el problema para encontrar todos los valores enteros posibles planteando las siguientes cuestiones:\n",
        "  - ¿Qué valor máximo y mínimo se pueden obtener según las condiciones del problema?\n",
        "  - ¿Es posible encontrar todos los valores enteros posibles entre dicho mínimo y máximo ?\n",
        "\n",
        "-  Nota: Es posible usar la función de python __“eval”__ para evaluar una expresión:\n",
        "(*) La respuesta es obligatoria\n",
        "\n",
        "\n",
        "\n",
        "\n",
        "\n",
        "                                        "
      ]
    },
    {
      "cell_type": "markdown",
      "metadata": {
        "id": "3_-exlrTgLd-",
        "colab_type": "text"
      },
      "source": [
        "## (*)¿Cuantas posibilidades hay sin tener en cuenta las restricciones?<br>\n",
        "\n",
        "## ¿Cuantas posibilidades hay teniendo en cuenta todas las restricciones.\n",
        "\n",
        "\n"
      ]
    },
    {
      "cell_type": "markdown",
      "metadata": {
        "id": "WfCUqJyKhPcw",
        "colab_type": "text"
      },
      "source": [
        "Respuesta"
      ]
    },
    {
      "cell_type": "markdown",
      "metadata": {
        "id": "NJJ5jETGGOLe",
        "colab_type": "text"
      },
      "source": [
        "> Antes de responder, explico un poco lo que se puede entender como restricciones en este problema.\n",
        "- Se parte de 9 cifras del 1 al 9 y cuatro signos básicos (\"+\",\"-\",\"/\",\"*\").\n",
        "- Se piden que las expresiones contengan 5 cifras y 4 signos.\n",
        "- Para formar una expresión \"válida\" se deben alternar cifras y signos, tomando como primer valor una cifra. Por tanto es importante el orden.\n",
        "\n",
        "> __Si no tenemos en cuenta las restricciones__: Es decir, no importa el orden de los signos y los números, el número de expresiones o posibilidades que tendremos es la combinación de todos los elementos entre sí, dando lugar a gran cantidad de combinaciones. \n",
        "\n",
        "  - __Resultado__ __$13! = 6227020800$__ combinaciones\n",
        "\n",
        "> __Si tenemos en cuenta las restricciones:__ Tal y como lo he resuelto, con la librería itertools, teniendo encuenta las combinaciones posibles y (únicamente) las expresiones válidas para generar la expresión, se reduce el ejercicio a una complejidad de:\n",
        "  - __Resultado__ $9! =362880$ combinaciones que si es procesable por el equipo\n",
        "\n",
        "  \n",
        "  "
      ]
    },
    {
      "cell_type": "markdown",
      "metadata": {
        "id": "dzynfVJahHoY",
        "colab_type": "text"
      },
      "source": [
        "Modelo para el espacio de soluciones<br>\n",
        "## (*) ¿Cual es la estructura de datos que mejor se adapta al problema? Argumentalo.(Es posible que hayas elegido una al principio y veas la necesidad de cambiar, arguentalo)\n"
      ]
    },
    {
      "cell_type": "markdown",
      "metadata": {
        "id": "xFIJrOwKi2Ti",
        "colab_type": "text"
      },
      "source": [
        "- El mejor modelo son dos listas, una para signos y otra para números. Porque así es más barato, computacionalmente hablando, de hacer la combinación entre todos los datos y de calcular sus posibilidades.\n",
        "\n",
        "- Así, se tiene una lista para los valores numéricos y una lista para los signos, de las que solo cogeremos 5 valores numéricos y todos los signos (4)para cada el cálculo de cada expresión.\n",
        "\n",
        "- Me planteé el ejercicio con tuplas o sets, pero dadas las características del enunciado, no era lo más eficiente. Así mismo, se descartó desde un inicio el uso de algún tipo de matriz como en otros ejercicios de clase.\n",
        "\n",
        "\n",
        "\n"
      ]
    },
    {
      "cell_type": "markdown",
      "metadata": {
        "id": "7Z9U2W7bi-XS",
        "colab_type": "text"
      },
      "source": [
        "Según el modelo para el espacio de soluciones<br>\n",
        "## (*)¿Cual es la función objetivo? ¿Es un problema de maximización o minimización?"
      ]
    },
    {
      "cell_type": "markdown",
      "metadata": {
        "id": "hBalWLM7j1_d",
        "colab_type": "text"
      },
      "source": [
        "\n",
        "- Es un problema de minimización, puesto que se busca obtener los resultados pedidos en el mínimo número de operaciones posibles y combinaciones posibles. No existe una función objetivo como tal, tenemos las dos listas y la función objetivo consiste en clacular la expresión exacta a partir de las combinaciones válidas."
      ]
    },
    {
      "cell_type": "markdown",
      "metadata": {
        "id": "rlnTYgY1j6I2",
        "colab_type": "text"
      },
      "source": [
        "## Diseña un algoritmo para resolver el problema por fuerza bruta"
      ]
    },
    {
      "cell_type": "markdown",
      "metadata": {
        "id": "70rDgxYXkC8r",
        "colab_type": "text"
      },
      "source": [
        "- Para resolver el problema con los datos pedidos, debido al alto número de combinaciones, es imposible calcularlo. El programa salta un aviso de memoria insuficiente y  no puede procesarlo. \n",
        "\n",
        "- Aún así, incluyo acontinuación el programa que calcularía este ejercicio por fuerza bruta para un __tamaño de datos considerablemente menor__ para que se pueda ver su funcionamiento.\n",
        "\n",
        "- Por ello, aparecen al final del código líneas comentadas con los datos originales del ejercicio y, a continuación los nuevos datos, con los que se muestra el algoritmo. Estos datos son:\n",
        "  - tamanio = 5\n",
        "  - datos = [\"+\",\"-\",1,2,3]\n",
        "\n",
        "- La función calcula las combinaciones posibles. En este caso reducido ya estamos viendo $720 (5!)$. De utilizar la versión que pide el problema, tendríamos $13!$ combinaciones.\n"
      ]
    },
    {
      "cell_type": "code",
      "metadata": {
        "id": "CJb5sQ0qkENy",
        "colab_type": "code",
        "colab": {
          "base_uri": "https://localhost:8080/",
          "height": 214
        },
        "outputId": "5523732a-9806-4a37-acd4-f4d34f467144"
      },
      "source": [
        "import random\n",
        "import itertools\n",
        "\n",
        "def fuerza_bruta(datos, tamanioMaximo, res):  \n",
        "  resultadosValidos = []\n",
        "  expresion = \"\"\n",
        "  combinaciones = []\n",
        "  operaciones = 0\n",
        "\n",
        "  #Calculo todas las combinaciones\n",
        "  for inum in itertools.permutations(datos,tamanioMaximo): \n",
        "    combinaciones.append(inum)\n",
        "    operaciones +=1\n",
        "  print(\"combinaciones\\n\",combinaciones)\n",
        "  \n",
        "  for i in range(len(combinaciones)): \n",
        "    expresion = \"\"\n",
        "    datoActual = combinaciones[i] # obtengo la combinacion correspondiente\n",
        "\n",
        "    for j in range(len(datoActual)):\n",
        "      expresion = expresion + str(datoActual[j])\n",
        "      operaciones +=1Ç\n",
        "    \n",
        "    try:\n",
        "      if(eval(expresion)==resultado):\n",
        "        print(\"Encontrada expresion válida: \", expresion,\"=\", resultado)\n",
        "        resultadosValidos.append(expresion)        \n",
        "    except:\n",
        "      None \n",
        "    \n",
        "  print(\"\\nSoluciones:\\n\", resultadosValidos,\"\\nCombinaciones: \", operaciones)\n",
        "\n",
        "## Datos originales, bloquea el programa\n",
        "#tamanio = 9 # Elementos que componen nuestra expresion\n",
        "#datos = [\"+\",\"-\",\"*\",\"/\",1,2,3,4,5,6,7,8,9]\n",
        "\n",
        "# Ejemplo de datos con los que poder calcular el resultado\n",
        "tamanio = 5\n",
        "datos = [\"+\",\"-\",1,2,3]\n",
        "resultado = 4      #Resultado contiene el valor que debe devolver la ecuacion\n",
        "fuerza_bruta(datos,tamanio,resultado)"
      ],
      "execution_count": 3,
      "outputs": [
        {
          "output_type": "stream",
          "text": [
            "combinaciones\n",
            " [('+', '-', 1, 2, 3), ('+', '-', 1, 3, 2), ('+', '-', 2, 1, 3), ('+', '-', 2, 3, 1), ('+', '-', 3, 1, 2), ('+', '-', 3, 2, 1), ('+', 1, '-', 2, 3), ('+', 1, '-', 3, 2), ('+', 1, 2, '-', 3), ('+', 1, 2, 3, '-'), ('+', 1, 3, '-', 2), ('+', 1, 3, 2, '-'), ('+', 2, '-', 1, 3), ('+', 2, '-', 3, 1), ('+', 2, 1, '-', 3), ('+', 2, 1, 3, '-'), ('+', 2, 3, '-', 1), ('+', 2, 3, 1, '-'), ('+', 3, '-', 1, 2), ('+', 3, '-', 2, 1), ('+', 3, 1, '-', 2), ('+', 3, 1, 2, '-'), ('+', 3, 2, '-', 1), ('+', 3, 2, 1, '-'), ('-', '+', 1, 2, 3), ('-', '+', 1, 3, 2), ('-', '+', 2, 1, 3), ('-', '+', 2, 3, 1), ('-', '+', 3, 1, 2), ('-', '+', 3, 2, 1), ('-', 1, '+', 2, 3), ('-', 1, '+', 3, 2), ('-', 1, 2, '+', 3), ('-', 1, 2, 3, '+'), ('-', 1, 3, '+', 2), ('-', 1, 3, 2, '+'), ('-', 2, '+', 1, 3), ('-', 2, '+', 3, 1), ('-', 2, 1, '+', 3), ('-', 2, 1, 3, '+'), ('-', 2, 3, '+', 1), ('-', 2, 3, 1, '+'), ('-', 3, '+', 1, 2), ('-', 3, '+', 2, 1), ('-', 3, 1, '+', 2), ('-', 3, 1, 2, '+'), ('-', 3, 2, '+', 1), ('-', 3, 2, 1, '+'), (1, '+', '-', 2, 3), (1, '+', '-', 3, 2), (1, '+', 2, '-', 3), (1, '+', 2, 3, '-'), (1, '+', 3, '-', 2), (1, '+', 3, 2, '-'), (1, '-', '+', 2, 3), (1, '-', '+', 3, 2), (1, '-', 2, '+', 3), (1, '-', 2, 3, '+'), (1, '-', 3, '+', 2), (1, '-', 3, 2, '+'), (1, 2, '+', '-', 3), (1, 2, '+', 3, '-'), (1, 2, '-', '+', 3), (1, 2, '-', 3, '+'), (1, 2, 3, '+', '-'), (1, 2, 3, '-', '+'), (1, 3, '+', '-', 2), (1, 3, '+', 2, '-'), (1, 3, '-', '+', 2), (1, 3, '-', 2, '+'), (1, 3, 2, '+', '-'), (1, 3, 2, '-', '+'), (2, '+', '-', 1, 3), (2, '+', '-', 3, 1), (2, '+', 1, '-', 3), (2, '+', 1, 3, '-'), (2, '+', 3, '-', 1), (2, '+', 3, 1, '-'), (2, '-', '+', 1, 3), (2, '-', '+', 3, 1), (2, '-', 1, '+', 3), (2, '-', 1, 3, '+'), (2, '-', 3, '+', 1), (2, '-', 3, 1, '+'), (2, 1, '+', '-', 3), (2, 1, '+', 3, '-'), (2, 1, '-', '+', 3), (2, 1, '-', 3, '+'), (2, 1, 3, '+', '-'), (2, 1, 3, '-', '+'), (2, 3, '+', '-', 1), (2, 3, '+', 1, '-'), (2, 3, '-', '+', 1), (2, 3, '-', 1, '+'), (2, 3, 1, '+', '-'), (2, 3, 1, '-', '+'), (3, '+', '-', 1, 2), (3, '+', '-', 2, 1), (3, '+', 1, '-', 2), (3, '+', 1, 2, '-'), (3, '+', 2, '-', 1), (3, '+', 2, 1, '-'), (3, '-', '+', 1, 2), (3, '-', '+', 2, 1), (3, '-', 1, '+', 2), (3, '-', 1, 2, '+'), (3, '-', 2, '+', 1), (3, '-', 2, 1, '+'), (3, 1, '+', '-', 2), (3, 1, '+', 2, '-'), (3, 1, '-', '+', 2), (3, 1, '-', 2, '+'), (3, 1, 2, '+', '-'), (3, 1, 2, '-', '+'), (3, 2, '+', '-', 1), (3, 2, '+', 1, '-'), (3, 2, '-', '+', 1), (3, 2, '-', 1, '+'), (3, 2, 1, '+', '-'), (3, 2, 1, '-', '+')]\n",
            "Encontrada expresion válida:  2+3-1 = 4\n",
            "Encontrada expresion válida:  2-1+3 = 4\n",
            "Encontrada expresion válida:  3+2-1 = 4\n",
            "Encontrada expresion válida:  3-1+2 = 4\n",
            "\n",
            "Soluciones:\n",
            " ['2+3-1', '2-1+3', '3+2-1', '3-1+2'] \n",
            "Combinaciones:  720\n"
          ],
          "name": "stdout"
        }
      ]
    },
    {
      "cell_type": "markdown",
      "metadata": {
        "id": "tgrnsC2nkFa8",
        "colab_type": "text"
      },
      "source": [
        "## Calcula la complejidad del algoritmo por fuerza bruta"
      ]
    },
    {
      "cell_type": "markdown",
      "metadata": {
        "id": "9eUd3xwckP68",
        "colab_type": "text"
      },
      "source": [
        "- Este ejercicio tiene una __complejidad exponencial__ o __$O(n) = (n!)$__ en caso de aplicar los datos originales del problema, estaríamos hablando de una complejidad de __$O(n) = (13!)$__"
      ]
    },
    {
      "cell_type": "markdown",
      "metadata": {
        "id": "txbrmLmskReM",
        "colab_type": "text"
      },
      "source": [
        "##(*)Diseña un algoritmo que mejore la complejidad del algortimo por fuerza bruta. Argumenta porque crees que mejora el algoritmo por fuerza bruta"
      ]
    },
    {
      "cell_type": "markdown",
      "metadata": {
        "id": "hLrVwt5QkZPD",
        "colab_type": "text"
      },
      "source": [
        "- Tengo dos funciones:\n",
        "  - __calcula_combinaciones__ que calcula todas las combinaciones posibles para la lista de números y la lista de signos. Así mismo devuelve como resultado estas combinaciones junto a su dimensión.\n",
        "\n",
        "  - __funcion_objetivo__: Crea una copia de los datos originales para no perderlos con la función __pop__ utilizada más adelante, y llama a la función _calcula_combinaciones_ para obtener los datos preparados. una vez obtiene los datos preparados, va obteniendo los resultados de la siguiente forma:\n",
        "    - Para todas las combinaciones posibles, va calculando las expresiones que pueden generarse para cada combinación de signos y cada combinacion de números.\n",
        "    - Para solventar el problema del __orden__ en que se introducen los datos en la variable __expresion__, se ha determinado que, la expresión en sus posiciones pares, debe contener un número y en sus posiciones impares un símbolo.\n",
        "    - Adicionalmente se han utilizado diversas variables auxiliares para mantenter la consistencia de la información original y para poder mostrar la información relevante de los resultados.\n",
        "\n",
        "    - Los datos de entrada a la función objetivo son:\n",
        "      - numero: contiene la lista con los números posibles del 1 al 9\n",
        "      - signos: contiene la lista con los signos posibles (+,-,*,/)\n",
        "      - resultado: contiene el valor que debe cumplir la ecuacion\n",
        "      - maxnum: Es el número máximo de \"números\" que puede tener la expresión a calcular\n",
        "  - Adicionalmente, se incluyen dos variables __maximo__ y __minimo__ para mostrar los valores máximo y mínimo que se pueden encontrar entre todas las expresiones."
      ]
    },
    {
      "cell_type": "code",
      "metadata": {
        "id": "m1eyM21Vkabg",
        "colab_type": "code",
        "colab": {
          "base_uri": "https://localhost:8080/",
          "height": 2952
        },
        "outputId": "a0da6653-d3e6-4590-8a45-14dcaa9cc5ae"
      },
      "source": [
        "import random\n",
        "import itertools\n",
        "\n",
        "#Funcion que calcula las combinaciones posibles de los datos de entrada\n",
        "def calcula_combinaciones(numeros, signos,maxnumeros):\n",
        "  nums =[]\n",
        "  sim = []\n",
        "  countnums = 0\n",
        "  countsim = 0\n",
        "\n",
        "  \n",
        "  #Calculo todas las combinaciones de las entradas correspondientes con los números\n",
        "  for inum in itertools.permutations(numeros,maxnumeros): \n",
        "    nums.append(inum)\n",
        "    countnums +=1\n",
        "\n",
        "  #combinaciones posibles para signos\n",
        "  for isim in itertools.permutations(signos, maxnumeros-1): \n",
        "    sim.append(isim)\n",
        "    countsim+=1\n",
        "  \n",
        "  return nums,sim,countnums,countsim\n",
        "\n",
        "\n",
        "#Función que solo saca la expresion \n",
        "def funcion_objetivo(numero, simbolo, resultado,maxnumeros):  #maxnumeros indica el número max de numeros en exp\n",
        "  print(\"Valores originales:\\n  - Numeros:\", numero, \"\\n  - Simbolos:\", simbolo)\n",
        "\n",
        "  numeroCopy =numero.copy()     \n",
        "  simboloCopy =simbolo.copy()\n",
        "  numeroOperaciones = 0\n",
        "  maximo = 0\n",
        "  minimo = 0\n",
        "  expMax = \"\"\n",
        "  expMin = \"\"\n",
        "  #Obtengo las combinaciones necesarias\n",
        "  #listasim : contiene una tupla con todas las listas de simbolos posibles\n",
        "  #listanums: contiene una tupla con todas las listas de numeros posibles\n",
        "  #combinacionesnums y combinacionessim son contadores\n",
        "  listanums,listasim,combinacionesnums,combinacionessim = calcula_combinaciones(numero,simbolo,maxnumeros)\n",
        " \n",
        "  print(\"Max combinaciones: Numeros\", combinacionesnums,\"\\t Simbolos:\", combinacionessim)\n",
        "  print(\"Total ops estimado:\", combinacionesnums*combinacionessim)  \n",
        "  \n",
        "  listaExpresiones =[]\n",
        "  expresionesValidas=[]\n",
        "  solucionesTotales = 0\n",
        "  for j in range(combinacionesnums*combinacionessim):\n",
        "   \n",
        "    #Para cada lista de simbolos, calculo su expresion correspondiente con cada\n",
        "    #lista de numeros posibles\n",
        "    iteracionessim = combinacionessim\n",
        "    while len(listasim)>0:\n",
        "\n",
        "      sActual = listasim.pop(0)   #Obtengo la actual combinacion de simbolos\n",
        "      #print(\"\\n ...  Ahora se hacen combinaciones de números con los simbolos : \", sActual,\"\\n\")\n",
        "      \n",
        "      iteracionesNums = combinacionesnums # reinicio las combinaciones de números\n",
        "  \n",
        "      # Para cada posible expresion inserto numeros en las posiciones pares\n",
        "      # y signos en las posiciones impares\n",
        "      for i in range(len(listanums)):\n",
        "        nActual =listanums[i]  \n",
        "        i = 0\n",
        "        ordens = 0\n",
        "        ordenn = 0\n",
        "        expresion=\"\"\n",
        "        while i<(maxnumeros+(maxnumeros-1)):\n",
        "\n",
        "          if (i%2==0):      # Par: añado numero\n",
        "            expresion = expresion+nActual[ordenn]\n",
        "            ordenn+=1\n",
        "          if (i%2!=0):      #impar: añado signo\n",
        "            expresion = expresion+sActual[ordens] \n",
        "            ordens+=1\n",
        "          i +=1\n",
        "        sol = eval(expresion)\n",
        "        if sol > maximo:\n",
        "          maximo = sol\n",
        "          expMax = expresion\n",
        "        if sol < minimo:\n",
        "          minimo = sol\n",
        "          expMin = expresion\n",
        "        if(sol == resultado):\n",
        "          expresionesValidas.append(expresion)\n",
        "          solucionesTotales +=1\n",
        "          print(\"\\t\\tEncontrada solucion: \", expresion, \"= \", sol)\n",
        "        listaExpresiones.append(expresion)\n",
        "        iteracionesNums-=1\n",
        "      iteracionessim-=1  \n",
        "\n",
        "  print(\"\\nSoluciones encontradas \",solucionesTotales,\"\\n   Maximo encontrado:\", maximo,\"con \",expMax,\"\\n   Minimo encontrado:\",minimo,\"con \",expMin)\n",
        "  print(\"\\nOperaciones cuyo resultado es igual a \", resultado,\":\\n\", expresionesValidas)\n",
        "\n",
        "\n",
        "# Tenemos dos listas con los datos\n",
        "numero = [\"1\",\"2\",\"3\",\"4\",\"5\",\"6\",\"7\",\"8\",\"9\"]\n",
        "signos =[\"+\",\"-\",\"*\",\"/\"]\n",
        "\n",
        "# resultado contiene el valor que debe cumplir la ecuacion\n",
        "resultado = 70\n",
        "# Cuantos números queremos que tenga nuestra ecuacion. Aqui 5 numeros y 5-1 simbolos\n",
        "maxnum = 5 \n",
        "funcion_objetivo(numero,signos,resultado,maxnum)"
      ],
      "execution_count": 8,
      "outputs": [
        {
          "output_type": "stream",
          "text": [
            "Valores originales:\n",
            "  - Numeros: ['1', '2', '3', '4', '5', '6', '7', '8', '9'] \n",
            "  - Simbolos: ['+', '-', '*', '/']\n",
            "Max combinaciones: Numeros 15120 \t Simbolos: 24\n",
            "Total ops estimado: 362880\n",
            "\t\tEncontrada solucion:  1+8*9-6/2 =  70.0\n",
            "\t\tEncontrada solucion:  1+9*8-6/2 =  70.0\n",
            "\t\tEncontrada solucion:  2+8*9-4/1 =  70.0\n",
            "\t\tEncontrada solucion:  2+9*8-4/1 =  70.0\n",
            "\t\tEncontrada solucion:  3+8*9-5/1 =  70.0\n",
            "\t\tEncontrada solucion:  3+9*8-5/1 =  70.0\n",
            "\t\tEncontrada solucion:  4+8*9-6/1 =  70.0\n",
            "\t\tEncontrada solucion:  4+9*8-6/1 =  70.0\n",
            "\t\tEncontrada solucion:  5+8*9-7/1 =  70.0\n",
            "\t\tEncontrada solucion:  5+9*8-7/1 =  70.0\n",
            "\t\tEncontrada solucion:  2+8*9/1-4 =  70.0\n",
            "\t\tEncontrada solucion:  2+9*8/1-4 =  70.0\n",
            "\t\tEncontrada solucion:  3+8*9/1-5 =  70.0\n",
            "\t\tEncontrada solucion:  3+9*8/1-5 =  70.0\n",
            "\t\tEncontrada solucion:  4+8*9/1-6 =  70.0\n",
            "\t\tEncontrada solucion:  4+9*8/1-6 =  70.0\n",
            "\t\tEncontrada solucion:  5+8*9/1-7 =  70.0\n",
            "\t\tEncontrada solucion:  5+9*8/1-7 =  70.0\n",
            "\t\tEncontrada solucion:  2+8/1*9-4 =  70.0\n",
            "\t\tEncontrada solucion:  2+9/1*8-4 =  70.0\n",
            "\t\tEncontrada solucion:  3+8/1*9-5 =  70.0\n",
            "\t\tEncontrada solucion:  3+9/1*8-5 =  70.0\n",
            "\t\tEncontrada solucion:  4+8/1*9-6 =  70.0\n",
            "\t\tEncontrada solucion:  4+9/1*8-6 =  70.0\n",
            "\t\tEncontrada solucion:  5+8/1*9-7 =  70.0\n",
            "\t\tEncontrada solucion:  5+9/1*8-7 =  70.0\n",
            "\t\tEncontrada solucion:  2-4+8*9/1 =  70.0\n",
            "\t\tEncontrada solucion:  2-4+9*8/1 =  70.0\n",
            "\t\tEncontrada solucion:  3-5+8*9/1 =  70.0\n",
            "\t\tEncontrada solucion:  3-5+9*8/1 =  70.0\n",
            "\t\tEncontrada solucion:  4-6+8*9/1 =  70.0\n",
            "\t\tEncontrada solucion:  4-6+9*8/1 =  70.0\n",
            "\t\tEncontrada solucion:  5-7+8*9/1 =  70.0\n",
            "\t\tEncontrada solucion:  5-7+9*8/1 =  70.0\n",
            "\t\tEncontrada solucion:  2-4+8/1*9 =  70.0\n",
            "\t\tEncontrada solucion:  2-4+9/1*8 =  70.0\n",
            "\t\tEncontrada solucion:  3-5+8/1*9 =  70.0\n",
            "\t\tEncontrada solucion:  3-5+9/1*8 =  70.0\n",
            "\t\tEncontrada solucion:  4-6+8/1*9 =  70.0\n",
            "\t\tEncontrada solucion:  4-6+9/1*8 =  70.0\n",
            "\t\tEncontrada solucion:  5-7+8/1*9 =  70.0\n",
            "\t\tEncontrada solucion:  5-7+9/1*8 =  70.0\n",
            "\t\tEncontrada solucion:  1-6/2+8*9 =  70.0\n",
            "\t\tEncontrada solucion:  1-6/2+9*8 =  70.0\n",
            "\t\tEncontrada solucion:  2-4/1+8*9 =  70.0\n",
            "\t\tEncontrada solucion:  2-4/1+9*8 =  70.0\n",
            "\t\tEncontrada solucion:  3-5/1+8*9 =  70.0\n",
            "\t\tEncontrada solucion:  3-5/1+9*8 =  70.0\n",
            "\t\tEncontrada solucion:  4-6/1+8*9 =  70.0\n",
            "\t\tEncontrada solucion:  4-6/1+9*8 =  70.0\n",
            "\t\tEncontrada solucion:  5-7/1+8*9 =  70.0\n",
            "\t\tEncontrada solucion:  5-7/1+9*8 =  70.0\n",
            "\t\tEncontrada solucion:  8*9+1-6/2 =  70.0\n",
            "\t\tEncontrada solucion:  8*9+2-4/1 =  70.0\n",
            "\t\tEncontrada solucion:  8*9+3-5/1 =  70.0\n",
            "\t\tEncontrada solucion:  8*9+4-6/1 =  70.0\n",
            "\t\tEncontrada solucion:  8*9+5-7/1 =  70.0\n",
            "\t\tEncontrada solucion:  9*8+1-6/2 =  70.0\n",
            "\t\tEncontrada solucion:  9*8+2-4/1 =  70.0\n",
            "\t\tEncontrada solucion:  9*8+3-5/1 =  70.0\n",
            "\t\tEncontrada solucion:  9*8+4-6/1 =  70.0\n",
            "\t\tEncontrada solucion:  9*8+5-7/1 =  70.0\n",
            "\t\tEncontrada solucion:  8*9+2/1-4 =  70.0\n",
            "\t\tEncontrada solucion:  8*9+3/1-5 =  70.0\n",
            "\t\tEncontrada solucion:  8*9+4/1-6 =  70.0\n",
            "\t\tEncontrada solucion:  8*9+5/1-7 =  70.0\n",
            "\t\tEncontrada solucion:  8*9+6/2-5 =  70.0\n",
            "\t\tEncontrada solucion:  8*9+6/3-4 =  70.0\n",
            "\t\tEncontrada solucion:  9*8+2/1-4 =  70.0\n",
            "\t\tEncontrada solucion:  9*8+3/1-5 =  70.0\n",
            "\t\tEncontrada solucion:  9*8+4/1-6 =  70.0\n",
            "\t\tEncontrada solucion:  9*8+5/1-7 =  70.0\n",
            "\t\tEncontrada solucion:  9*8+6/2-5 =  70.0\n",
            "\t\tEncontrada solucion:  9*8+6/3-4 =  70.0\n",
            "\t\tEncontrada solucion:  8*9-4+2/1 =  70.0\n",
            "\t\tEncontrada solucion:  8*9-4+6/3 =  70.0\n",
            "\t\tEncontrada solucion:  8*9-5+3/1 =  70.0\n",
            "\t\tEncontrada solucion:  8*9-5+6/2 =  70.0\n",
            "\t\tEncontrada solucion:  8*9-6+4/1 =  70.0\n",
            "\t\tEncontrada solucion:  8*9-7+5/1 =  70.0\n",
            "\t\tEncontrada solucion:  9*8-4+2/1 =  70.0\n",
            "\t\tEncontrada solucion:  9*8-4+6/3 =  70.0\n",
            "\t\tEncontrada solucion:  9*8-5+3/1 =  70.0\n",
            "\t\tEncontrada solucion:  9*8-5+6/2 =  70.0\n",
            "\t\tEncontrada solucion:  9*8-6+4/1 =  70.0\n",
            "\t\tEncontrada solucion:  9*8-7+5/1 =  70.0\n",
            "\t\tEncontrada solucion:  8*9-4/1+2 =  70.0\n",
            "\t\tEncontrada solucion:  8*9-5/1+3 =  70.0\n",
            "\t\tEncontrada solucion:  8*9-6/1+4 =  70.0\n",
            "\t\tEncontrada solucion:  8*9-6/2+1 =  70.0\n",
            "\t\tEncontrada solucion:  8*9-7/1+5 =  70.0\n",
            "\t\tEncontrada solucion:  9*8-4/1+2 =  70.0\n",
            "\t\tEncontrada solucion:  9*8-5/1+3 =  70.0\n",
            "\t\tEncontrada solucion:  9*8-6/1+4 =  70.0\n",
            "\t\tEncontrada solucion:  9*8-6/2+1 =  70.0\n",
            "\t\tEncontrada solucion:  9*8-7/1+5 =  70.0\n",
            "\t\tEncontrada solucion:  8*9/1+2-4 =  70.0\n",
            "\t\tEncontrada solucion:  8*9/1+3-5 =  70.0\n",
            "\t\tEncontrada solucion:  8*9/1+4-6 =  70.0\n",
            "\t\tEncontrada solucion:  8*9/1+5-7 =  70.0\n",
            "\t\tEncontrada solucion:  9*8/1+2-4 =  70.0\n",
            "\t\tEncontrada solucion:  9*8/1+3-5 =  70.0\n",
            "\t\tEncontrada solucion:  9*8/1+4-6 =  70.0\n",
            "\t\tEncontrada solucion:  9*8/1+5-7 =  70.0\n",
            "\t\tEncontrada solucion:  8*9/1-4+2 =  70.0\n",
            "\t\tEncontrada solucion:  8*9/1-5+3 =  70.0\n",
            "\t\tEncontrada solucion:  8*9/1-6+4 =  70.0\n",
            "\t\tEncontrada solucion:  8*9/1-7+5 =  70.0\n",
            "\t\tEncontrada solucion:  9*8/1-4+2 =  70.0\n",
            "\t\tEncontrada solucion:  9*8/1-5+3 =  70.0\n",
            "\t\tEncontrada solucion:  9*8/1-6+4 =  70.0\n",
            "\t\tEncontrada solucion:  9*8/1-7+5 =  70.0\n",
            "\t\tEncontrada solucion:  2/1+8*9-4 =  70.0\n",
            "\t\tEncontrada solucion:  2/1+9*8-4 =  70.0\n",
            "\t\tEncontrada solucion:  3/1+8*9-5 =  70.0\n",
            "\t\tEncontrada solucion:  3/1+9*8-5 =  70.0\n",
            "\t\tEncontrada solucion:  4/1+8*9-6 =  70.0\n",
            "\t\tEncontrada solucion:  4/1+9*8-6 =  70.0\n",
            "\t\tEncontrada solucion:  5/1+8*9-7 =  70.0\n",
            "\t\tEncontrada solucion:  5/1+9*8-7 =  70.0\n",
            "\t\tEncontrada solucion:  6/2+8*9-5 =  70.0\n",
            "\t\tEncontrada solucion:  6/2+9*8-5 =  70.0\n",
            "\t\tEncontrada solucion:  6/3+8*9-4 =  70.0\n",
            "\t\tEncontrada solucion:  6/3+9*8-4 =  70.0\n",
            "\t\tEncontrada solucion:  2/1-4+8*9 =  70.0\n",
            "\t\tEncontrada solucion:  2/1-4+9*8 =  70.0\n",
            "\t\tEncontrada solucion:  3/1-5+8*9 =  70.0\n",
            "\t\tEncontrada solucion:  3/1-5+9*8 =  70.0\n",
            "\t\tEncontrada solucion:  4/1-6+8*9 =  70.0\n",
            "\t\tEncontrada solucion:  4/1-6+9*8 =  70.0\n",
            "\t\tEncontrada solucion:  5/1-7+8*9 =  70.0\n",
            "\t\tEncontrada solucion:  5/1-7+9*8 =  70.0\n",
            "\t\tEncontrada solucion:  6/2-5+8*9 =  70.0\n",
            "\t\tEncontrada solucion:  6/2-5+9*8 =  70.0\n",
            "\t\tEncontrada solucion:  6/3-4+8*9 =  70.0\n",
            "\t\tEncontrada solucion:  6/3-4+9*8 =  70.0\n",
            "\t\tEncontrada solucion:  8/1*9+2-4 =  70.0\n",
            "\t\tEncontrada solucion:  8/1*9+3-5 =  70.0\n",
            "\t\tEncontrada solucion:  8/1*9+4-6 =  70.0\n",
            "\t\tEncontrada solucion:  8/1*9+5-7 =  70.0\n",
            "\t\tEncontrada solucion:  9/1*8+2-4 =  70.0\n",
            "\t\tEncontrada solucion:  9/1*8+3-5 =  70.0\n",
            "\t\tEncontrada solucion:  9/1*8+4-6 =  70.0\n",
            "\t\tEncontrada solucion:  9/1*8+5-7 =  70.0\n",
            "\t\tEncontrada solucion:  8/1*9-4+2 =  70.0\n",
            "\t\tEncontrada solucion:  8/1*9-5+3 =  70.0\n",
            "\t\tEncontrada solucion:  8/1*9-6+4 =  70.0\n",
            "\t\tEncontrada solucion:  8/1*9-7+5 =  70.0\n",
            "\t\tEncontrada solucion:  9/1*8-4+2 =  70.0\n",
            "\t\tEncontrada solucion:  9/1*8-5+3 =  70.0\n",
            "\t\tEncontrada solucion:  9/1*8-6+4 =  70.0\n",
            "\t\tEncontrada solucion:  9/1*8-7+5 =  70.0\n",
            "\n",
            "Soluciones encontradas  152 \n",
            "   Maximo encontrado: 78.83333333333333 con  7+8*9-1/6 \n",
            "   Minimo encontrado: -70.71428571428571 con  1+2/7-8*9\n",
            "\n",
            "Operaciones cuyo resultado es igual a  70 :\n",
            " ['1+8*9-6/2', '1+9*8-6/2', '2+8*9-4/1', '2+9*8-4/1', '3+8*9-5/1', '3+9*8-5/1', '4+8*9-6/1', '4+9*8-6/1', '5+8*9-7/1', '5+9*8-7/1', '2+8*9/1-4', '2+9*8/1-4', '3+8*9/1-5', '3+9*8/1-5', '4+8*9/1-6', '4+9*8/1-6', '5+8*9/1-7', '5+9*8/1-7', '2+8/1*9-4', '2+9/1*8-4', '3+8/1*9-5', '3+9/1*8-5', '4+8/1*9-6', '4+9/1*8-6', '5+8/1*9-7', '5+9/1*8-7', '2-4+8*9/1', '2-4+9*8/1', '3-5+8*9/1', '3-5+9*8/1', '4-6+8*9/1', '4-6+9*8/1', '5-7+8*9/1', '5-7+9*8/1', '2-4+8/1*9', '2-4+9/1*8', '3-5+8/1*9', '3-5+9/1*8', '4-6+8/1*9', '4-6+9/1*8', '5-7+8/1*9', '5-7+9/1*8', '1-6/2+8*9', '1-6/2+9*8', '2-4/1+8*9', '2-4/1+9*8', '3-5/1+8*9', '3-5/1+9*8', '4-6/1+8*9', '4-6/1+9*8', '5-7/1+8*9', '5-7/1+9*8', '8*9+1-6/2', '8*9+2-4/1', '8*9+3-5/1', '8*9+4-6/1', '8*9+5-7/1', '9*8+1-6/2', '9*8+2-4/1', '9*8+3-5/1', '9*8+4-6/1', '9*8+5-7/1', '8*9+2/1-4', '8*9+3/1-5', '8*9+4/1-6', '8*9+5/1-7', '8*9+6/2-5', '8*9+6/3-4', '9*8+2/1-4', '9*8+3/1-5', '9*8+4/1-6', '9*8+5/1-7', '9*8+6/2-5', '9*8+6/3-4', '8*9-4+2/1', '8*9-4+6/3', '8*9-5+3/1', '8*9-5+6/2', '8*9-6+4/1', '8*9-7+5/1', '9*8-4+2/1', '9*8-4+6/3', '9*8-5+3/1', '9*8-5+6/2', '9*8-6+4/1', '9*8-7+5/1', '8*9-4/1+2', '8*9-5/1+3', '8*9-6/1+4', '8*9-6/2+1', '8*9-7/1+5', '9*8-4/1+2', '9*8-5/1+3', '9*8-6/1+4', '9*8-6/2+1', '9*8-7/1+5', '8*9/1+2-4', '8*9/1+3-5', '8*9/1+4-6', '8*9/1+5-7', '9*8/1+2-4', '9*8/1+3-5', '9*8/1+4-6', '9*8/1+5-7', '8*9/1-4+2', '8*9/1-5+3', '8*9/1-6+4', '8*9/1-7+5', '9*8/1-4+2', '9*8/1-5+3', '9*8/1-6+4', '9*8/1-7+5', '2/1+8*9-4', '2/1+9*8-4', '3/1+8*9-5', '3/1+9*8-5', '4/1+8*9-6', '4/1+9*8-6', '5/1+8*9-7', '5/1+9*8-7', '6/2+8*9-5', '6/2+9*8-5', '6/3+8*9-4', '6/3+9*8-4', '2/1-4+8*9', '2/1-4+9*8', '3/1-5+8*9', '3/1-5+9*8', '4/1-6+8*9', '4/1-6+9*8', '5/1-7+8*9', '5/1-7+9*8', '6/2-5+8*9', '6/2-5+9*8', '6/3-4+8*9', '6/3-4+9*8', '8/1*9+2-4', '8/1*9+3-5', '8/1*9+4-6', '8/1*9+5-7', '9/1*8+2-4', '9/1*8+3-5', '9/1*8+4-6', '9/1*8+5-7', '8/1*9-4+2', '8/1*9-5+3', '8/1*9-6+4', '8/1*9-7+5', '9/1*8-4+2', '9/1*8-5+3', '9/1*8-6+4', '9/1*8-7+5']\n"
          ],
          "name": "stdout"
        }
      ]
    },
    {
      "cell_type": "markdown",
      "metadata": {
        "id": "eGDB4K6uk1iN",
        "colab_type": "text"
      },
      "source": [
        "## (*)Calcula la complejidad del algoritmo "
      ]
    },
    {
      "cell_type": "markdown",
      "metadata": {
        "id": "NhpTh_BPk1ms",
        "colab_type": "text"
      },
      "source": [
        "- La complejidad de este algoritmo se reduce a __$9!=362880$__. Aunque las complejidades factoriales no suelen ser las más óptimas, para este ejercicio en concreto, es necesario evaluar \"todas las combinaciones posibles de expresiones válidas\" y, debido a la cantidad de elementos que puede tener una expresión, es normal que la combinación de todos esos elementos tienda a un número tan grande.\n",
        "\n",
        "- No obstante, la complejidad se ha reducido bastante y se presenta un ejercicio perfectamente ejecutable"
      ]
    },
    {
      "cell_type": "markdown",
      "metadata": {
        "id": "MCzMEFHwu3I5",
        "colab_type": "text"
      },
      "source": [
        "## ¿Qué valor máximo y mínimo se pueden obtener según las condiciones del problema?\n"
      ]
    },
    {
      "cell_type": "markdown",
      "metadata": {
        "id": "JPZbVEMPu-VX",
        "colab_type": "text"
      },
      "source": [
        "- Esto es un dato que incluí en el código del ejercicio, y la información al respecto es:\n",
        "  - Máximo encontrado: 78.83333333333333 con la expresión: 7+8*9-1/6 \n",
        "  - Mínimo encontrado: -70.71428571428571 con la expresión: 1+2/7-8*9"
      ]
    },
    {
      "cell_type": "markdown",
      "metadata": {
        "id": "_LBnv0bxu7aT",
        "colab_type": "text"
      },
      "source": [
        "## ¿Es posible encontrar todos los valores enteros posibles entre dicho mínimo y máximo ?"
      ]
    },
    {
      "cell_type": "markdown",
      "metadata": {
        "id": "ZLUz3nmnvZOH",
        "colab_type": "text"
      },
      "source": [
        "- Si, de hecho al ser esos los valores máximos y mínimos que se pueden obtener de todas las combinaciones posibles y válidas en el ejercicio, en realidad, todos los calculos están comprendidos entre esos valores."
      ]
    },
    {
      "cell_type": "markdown",
      "metadata": {
        "id": "3M6QjTsSkmYe",
        "colab_type": "text"
      },
      "source": [
        "##Según el problema (y tenga sentido), diseña un juego de datos de entrada aleatorios"
      ]
    },
    {
      "cell_type": "markdown",
      "metadata": {
        "id": "Jc3_OlyNkvjZ",
        "colab_type": "text"
      },
      "source": [
        "- En este ejercicio no tiene sentido añadir datos aleatorios, puesto que si hacemos búsquedas aleatorias de los datos originales ([\"+\",\"-\",\"*\",\"/\",1,2,3,4,5,6,7,8,9]) y, para cada resultado aleatorio se debe obtener todas las expresiones válidas posibles, es posible que la aplicación se quede colgada o no lleguemos a obtener toda la información posible del ejercicio."
      ]
    },
    {
      "cell_type": "markdown",
      "metadata": {
        "id": "kAkDPUyRtYyH",
        "colab_type": "text"
      },
      "source": [
        "## Describe brevemente las lineas de como crees que es posible avanzar en el estudio del problema. Ten en cuenta incluso posibles variaciones del problema y/o variaciones al alza del tamaño"
      ]
    },
    {
      "cell_type": "markdown",
      "metadata": {
        "id": "IE0uZmo-tZu-",
        "colab_type": "text"
      },
      "source": [
        "- Creo que una mejora sería interesante sería tener en cuenta los resultados enteros o controlar, de alguna forma que las divisiones solo pudieran hacerse para números que no den decimales como resultado."
      ]
    },
    {
      "cell_type": "code",
      "metadata": {
        "id": "eQN-im-Ly_qj",
        "colab_type": "code",
        "colab": {}
      },
      "source": [
        ""
      ],
      "execution_count": 0,
      "outputs": []
    }
  ]
}